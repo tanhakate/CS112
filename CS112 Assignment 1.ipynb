{
 "cells": [
  {
   "cell_type": "markdown",
   "metadata": {},
   "source": [
    "# Assignment Instructions"
   ]
  },
  {
   "cell_type": "code",
   "execution_count": 1,
   "metadata": {},
   "outputs": [
    {
     "data": {
      "text/html": [
       "<ol class=list-inline>\n",
       "\t<li>'Number'</li>\n",
       "\t<li>'Status'</li>\n",
       "\t<li>'Cluster'</li>\n",
       "\t<li>'Prefix'</li>\n",
       "\t<li>'Type'</li>\n",
       "\t<li>'Country'</li>\n",
       "\t<li>'Dept'</li>\n",
       "\t<li>'Division'</li>\n",
       "\t<li>'LTAA'</li>\n",
       "\t<li>'Loan'</li>\n",
       "\t<li>'ApprovalDate'</li>\n",
       "\t<li>'AgreementDate'</li>\n",
       "\t<li>'Agreement'</li>\n",
       "\t<li>'EffectivityDate'</li>\n",
       "\t<li>'CancellationDate'</li>\n",
       "\t<li>'FinancialCompletionDate'</li>\n",
       "\t<li>'OriginalCompletionDate'</li>\n",
       "\t<li>'RevisedCompletionDate'</li>\n",
       "\t<li>'JSF'</li>\n",
       "\t<li>'Fund'</li>\n",
       "\t<li>'RevisedAmount'</li>\n",
       "\t<li>'Rating'</li>\n",
       "\t<li>'No'</li>\n",
       "\t<li>'PCR'</li>\n",
       "\t<li>'CirculationDate'</li>\n",
       "</ol>\n"
      ],
      "text/latex": [
       "\\begin{enumerate*}\n",
       "\\item 'Number'\n",
       "\\item 'Status'\n",
       "\\item 'Cluster'\n",
       "\\item 'Prefix'\n",
       "\\item 'Type'\n",
       "\\item 'Country'\n",
       "\\item 'Dept'\n",
       "\\item 'Division'\n",
       "\\item 'LTAA'\n",
       "\\item 'Loan'\n",
       "\\item 'ApprovalDate'\n",
       "\\item 'AgreementDate'\n",
       "\\item 'Agreement'\n",
       "\\item 'EffectivityDate'\n",
       "\\item 'CancellationDate'\n",
       "\\item 'FinancialCompletionDate'\n",
       "\\item 'OriginalCompletionDate'\n",
       "\\item 'RevisedCompletionDate'\n",
       "\\item 'JSF'\n",
       "\\item 'Fund'\n",
       "\\item 'RevisedAmount'\n",
       "\\item 'Rating'\n",
       "\\item 'No'\n",
       "\\item 'PCR'\n",
       "\\item 'CirculationDate'\n",
       "\\end{enumerate*}\n"
      ],
      "text/markdown": [
       "1. 'Number'\n",
       "2. 'Status'\n",
       "3. 'Cluster'\n",
       "4. 'Prefix'\n",
       "5. 'Type'\n",
       "6. 'Country'\n",
       "7. 'Dept'\n",
       "8. 'Division'\n",
       "9. 'LTAA'\n",
       "10. 'Loan'\n",
       "11. 'ApprovalDate'\n",
       "12. 'AgreementDate'\n",
       "13. 'Agreement'\n",
       "14. 'EffectivityDate'\n",
       "15. 'CancellationDate'\n",
       "16. 'FinancialCompletionDate'\n",
       "17. 'OriginalCompletionDate'\n",
       "18. 'RevisedCompletionDate'\n",
       "19. 'JSF'\n",
       "20. 'Fund'\n",
       "21. 'RevisedAmount'\n",
       "22. 'Rating'\n",
       "23. 'No'\n",
       "24. 'PCR'\n",
       "25. 'CirculationDate'\n",
       "\n",
       "\n"
      ],
      "text/plain": [
       " [1] \"Number\"                  \"Status\"                 \n",
       " [3] \"Cluster\"                 \"Prefix\"                 \n",
       " [5] \"Type\"                    \"Country\"                \n",
       " [7] \"Dept\"                    \"Division\"               \n",
       " [9] \"LTAA\"                    \"Loan\"                   \n",
       "[11] \"ApprovalDate\"            \"AgreementDate\"          \n",
       "[13] \"Agreement\"               \"EffectivityDate\"        \n",
       "[15] \"CancellationDate\"        \"FinancialCompletionDate\"\n",
       "[17] \"OriginalCompletionDate\"  \"RevisedCompletionDate\"  \n",
       "[19] \"JSF\"                     \"Fund\"                   \n",
       "[21] \"RevisedAmount\"           \"Rating\"                 \n",
       "[23] \"No\"                      \"PCR\"                    \n",
       "[25] \"CirculationDate\"        "
      ]
     },
     "metadata": {},
     "output_type": "display_data"
    },
    {
     "data": {
      "text/html": [
       "<ol class=list-inline>\n",
       "\t<li>9016</li>\n",
       "\t<li>25</li>\n",
       "</ol>\n"
      ],
      "text/latex": [
       "\\begin{enumerate*}\n",
       "\\item 9016\n",
       "\\item 25\n",
       "\\end{enumerate*}\n"
      ],
      "text/markdown": [
       "1. 9016\n",
       "2. 25\n",
       "\n",
       "\n"
      ],
      "text/plain": [
       "[1] 9016   25"
      ]
     },
     "metadata": {},
     "output_type": "display_data"
    },
    {
     "data": {
      "text/html": [
       "<table>\n",
       "<thead><tr><th scope=col>Number</th><th scope=col>Status</th><th scope=col>Cluster</th><th scope=col>Prefix</th><th scope=col>Type</th><th scope=col>Country</th><th scope=col>Dept</th><th scope=col>Division</th><th scope=col>LTAA</th><th scope=col>Loan</th><th scope=col>...</th><th scope=col>FinancialCompletionDate</th><th scope=col>OriginalCompletionDate</th><th scope=col>RevisedCompletionDate</th><th scope=col>JSF</th><th scope=col>Fund</th><th scope=col>RevisedAmount</th><th scope=col>Rating</th><th scope=col>No</th><th scope=col>PCR</th><th scope=col>CirculationDate</th></tr></thead>\n",
       "<tbody>\n",
       "\t<tr><td>5001                                                </td><td>Financially Completed                               </td><td>                                                    </td><td>R                                                   </td><td>RETA                                                </td><td>REG                                                 </td><td>                                                    </td><td>                                                    </td><td>Agriculture, natural resources and rural development</td><td>0                                                   </td><td>...                                                 </td><td>1987-12-31                                          </td><td>                                                    </td><td>1987-12-31                                          </td><td>NA                                                  </td><td>2                                                   </td><td>0.155                                               </td><td>NA                                                  </td><td>                                                    </td><td>                                                    </td><td>                                                    </td></tr>\n",
       "\t<tr><td>   1                                                </td><td>Financially Completed                               </td><td>                                                    </td><td>                                                    </td><td>ADTA                                                </td><td>INO                                                 </td><td>                                                    </td><td>                                                    </td><td>Agriculture, natural resources and rural development</td><td>0                                                   </td><td>...                                                 </td><td>1968-07-31                                          </td><td>                                                    </td><td>1968-07-31                                          </td><td>NA                                                  </td><td>2                                                   </td><td>0.080                                               </td><td>NA                                                  </td><td>                                                    </td><td>                                                    </td><td>                                                    </td></tr>\n",
       "\t<tr><td>   2                                                </td><td>Financially Completed                               </td><td>                                                    </td><td>                                                    </td><td>ADTA                                                </td><td>KOR                                                 </td><td>                                                    </td><td>                                                    </td><td>Agriculture, natural resources and rural development</td><td>0                                                   </td><td>...                                                 </td><td>1969-10-31                                          </td><td>                                                    </td><td>1969-10-31                                          </td><td>NA                                                  </td><td>2                                                   </td><td>0.067                                               </td><td>NA                                                  </td><td>                                                    </td><td>                                                    </td><td>                                                    </td></tr>\n",
       "\t<tr><td>   3                                                </td><td>Financially Completed                               </td><td>                                                    </td><td>                                                    </td><td>ADTA                                                </td><td>PHI                                                 </td><td>                                                    </td><td>                                                    </td><td>Agriculture, natural resources and rural development</td><td>0                                                   </td><td>...                                                 </td><td>1970-01-31                                          </td><td>                                                    </td><td>1970-01-31                                          </td><td>NA                                                  </td><td>2                                                   </td><td>0.105                                               </td><td>NA                                                  </td><td>                                                    </td><td>                                                    </td><td>                                                    </td></tr>\n",
       "\t<tr><td>   4                                                </td><td>Financially Completed                               </td><td>                                                    </td><td>                                                    </td><td>ADTA                                                </td><td>VIE                                                 </td><td>                                                    </td><td>                                                    </td><td>Finance                                             </td><td>0                                                   </td><td>...                                                 </td><td>1972-08-31                                          </td><td>                                                    </td><td>1972-08-31                                          </td><td>NA                                                  </td><td>2                                                   </td><td>0.115                                               </td><td>NA                                                  </td><td>                                                    </td><td>                                                    </td><td>                                                    </td></tr>\n",
       "\t<tr><td>   5                                                </td><td>Financially Completed                               </td><td>                                                    </td><td>                                                    </td><td>PPTA                                                </td><td>PHI                                                 </td><td>                                                    </td><td>                                                    </td><td>Transport                                           </td><td>0                                                   </td><td>...                                                 </td><td>1970-03-31                                          </td><td>                                                    </td><td>1970-03-31                                          </td><td>NA                                                  </td><td>2                                                   </td><td>0.325                                               </td><td>NA                                                  </td><td>                                                    </td><td>                                                    </td><td>                                                    </td></tr>\n",
       "</tbody>\n",
       "</table>\n"
      ],
      "text/latex": [
       "\\begin{tabular}{r|lllllllllllllllllllllllll}\n",
       " Number & Status & Cluster & Prefix & Type & Country & Dept & Division & LTAA & Loan & ... & FinancialCompletionDate & OriginalCompletionDate & RevisedCompletionDate & JSF & Fund & RevisedAmount & Rating & No & PCR & CirculationDate\\\\\n",
       "\\hline\n",
       "\t 5001                                                 & Financially Completed                                &                                                      & R                                                    & RETA                                                 & REG                                                  &                                                      &                                                      & Agriculture, natural resources and rural development & 0                                                    & ...                                                  & 1987-12-31                                           &                                                      & 1987-12-31                                           & NA                                                   & 2                                                    & 0.155                                                & NA                                                   &                                                      &                                                      &                                                     \\\\\n",
       "\t    1                                                 & Financially Completed                                &                                                      &                                                      & ADTA                                                 & INO                                                  &                                                      &                                                      & Agriculture, natural resources and rural development & 0                                                    & ...                                                  & 1968-07-31                                           &                                                      & 1968-07-31                                           & NA                                                   & 2                                                    & 0.080                                                & NA                                                   &                                                      &                                                      &                                                     \\\\\n",
       "\t    2                                                 & Financially Completed                                &                                                      &                                                      & ADTA                                                 & KOR                                                  &                                                      &                                                      & Agriculture, natural resources and rural development & 0                                                    & ...                                                  & 1969-10-31                                           &                                                      & 1969-10-31                                           & NA                                                   & 2                                                    & 0.067                                                & NA                                                   &                                                      &                                                      &                                                     \\\\\n",
       "\t    3                                                 & Financially Completed                                &                                                      &                                                      & ADTA                                                 & PHI                                                  &                                                      &                                                      & Agriculture, natural resources and rural development & 0                                                    & ...                                                  & 1970-01-31                                           &                                                      & 1970-01-31                                           & NA                                                   & 2                                                    & 0.105                                                & NA                                                   &                                                      &                                                      &                                                     \\\\\n",
       "\t    4                                                 & Financially Completed                                &                                                      &                                                      & ADTA                                                 & VIE                                                  &                                                      &                                                      & Finance                                              & 0                                                    & ...                                                  & 1972-08-31                                           &                                                      & 1972-08-31                                           & NA                                                   & 2                                                    & 0.115                                                & NA                                                   &                                                      &                                                      &                                                     \\\\\n",
       "\t    5                                                 & Financially Completed                                &                                                      &                                                      & PPTA                                                 & PHI                                                  &                                                      &                                                      & Transport                                            & 0                                                    & ...                                                  & 1970-03-31                                           &                                                      & 1970-03-31                                           & NA                                                   & 2                                                    & 0.325                                                & NA                                                   &                                                      &                                                      &                                                     \\\\\n",
       "\\end{tabular}\n"
      ],
      "text/markdown": [
       "\n",
       "Number | Status | Cluster | Prefix | Type | Country | Dept | Division | LTAA | Loan | ... | FinancialCompletionDate | OriginalCompletionDate | RevisedCompletionDate | JSF | Fund | RevisedAmount | Rating | No | PCR | CirculationDate | \n",
       "|---|---|---|---|---|---|\n",
       "| 5001                                                 | Financially Completed                                |                                                      | R                                                    | RETA                                                 | REG                                                  |                                                      |                                                      | Agriculture, natural resources and rural development | 0                                                    | ...                                                  | 1987-12-31                                           |                                                      | 1987-12-31                                           | NA                                                   | 2                                                    | 0.155                                                | NA                                                   |                                                      |                                                      |                                                      | \n",
       "|    1                                                 | Financially Completed                                |                                                      |                                                      | ADTA                                                 | INO                                                  |                                                      |                                                      | Agriculture, natural resources and rural development | 0                                                    | ...                                                  | 1968-07-31                                           |                                                      | 1968-07-31                                           | NA                                                   | 2                                                    | 0.080                                                | NA                                                   |                                                      |                                                      |                                                      | \n",
       "|    2                                                 | Financially Completed                                |                                                      |                                                      | ADTA                                                 | KOR                                                  |                                                      |                                                      | Agriculture, natural resources and rural development | 0                                                    | ...                                                  | 1969-10-31                                           |                                                      | 1969-10-31                                           | NA                                                   | 2                                                    | 0.067                                                | NA                                                   |                                                      |                                                      |                                                      | \n",
       "|    3                                                 | Financially Completed                                |                                                      |                                                      | ADTA                                                 | PHI                                                  |                                                      |                                                      | Agriculture, natural resources and rural development | 0                                                    | ...                                                  | 1970-01-31                                           |                                                      | 1970-01-31                                           | NA                                                   | 2                                                    | 0.105                                                | NA                                                   |                                                      |                                                      |                                                      | \n",
       "|    4                                                 | Financially Completed                                |                                                      |                                                      | ADTA                                                 | VIE                                                  |                                                      |                                                      | Finance                                              | 0                                                    | ...                                                  | 1972-08-31                                           |                                                      | 1972-08-31                                           | NA                                                   | 2                                                    | 0.115                                                | NA                                                   |                                                      |                                                      |                                                      | \n",
       "|    5                                                 | Financially Completed                                |                                                      |                                                      | PPTA                                                 | PHI                                                  |                                                      |                                                      | Transport                                            | 0                                                    | ...                                                  | 1970-03-31                                           |                                                      | 1970-03-31                                           | NA                                                   | 2                                                    | 0.325                                                | NA                                                   |                                                      |                                                      |                                                      | \n",
       "\n",
       "\n"
      ],
      "text/plain": [
       "  Number Status                Cluster Prefix Type Country Dept Division\n",
       "1 5001   Financially Completed         R      RETA REG                  \n",
       "2    1   Financially Completed                ADTA INO                  \n",
       "3    2   Financially Completed                ADTA KOR                  \n",
       "4    3   Financially Completed                ADTA PHI                  \n",
       "5    4   Financially Completed                ADTA VIE                  \n",
       "6    5   Financially Completed                PPTA PHI                  \n",
       "  LTAA                                                 Loan ...\n",
       "1 Agriculture, natural resources and rural development 0    ...\n",
       "2 Agriculture, natural resources and rural development 0    ...\n",
       "3 Agriculture, natural resources and rural development 0    ...\n",
       "4 Agriculture, natural resources and rural development 0    ...\n",
       "5 Finance                                              0    ...\n",
       "6 Transport                                            0    ...\n",
       "  FinancialCompletionDate OriginalCompletionDate RevisedCompletionDate JSF Fund\n",
       "1 1987-12-31                                     1987-12-31            NA  2   \n",
       "2 1968-07-31                                     1968-07-31            NA  2   \n",
       "3 1969-10-31                                     1969-10-31            NA  2   \n",
       "4 1970-01-31                                     1970-01-31            NA  2   \n",
       "5 1972-08-31                                     1972-08-31            NA  2   \n",
       "6 1970-03-31                                     1970-03-31            NA  2   \n",
       "  RevisedAmount Rating No PCR CirculationDate\n",
       "1 0.155         NA                           \n",
       "2 0.080         NA                           \n",
       "3 0.067         NA                           \n",
       "4 0.105         NA                           \n",
       "5 0.115         NA                           \n",
       "6 0.325         NA                           "
      ]
     },
     "metadata": {},
     "output_type": "display_data"
    }
   ],
   "source": [
    "### Multilateral Development Institution Data\n",
    "foo <- read.csv(\"https://tinyurl.com/yb4phxx8\") # read in the data\n",
    "\n",
    "# column names\n",
    "names(foo)\n",
    "\n",
    "# dimensions of the data set\n",
    "dim(foo)\n",
    "\n",
    "# quick look at the data structure\n",
    "head(foo)\n",
    "\n",
    "# one thing to be very careful with (in this data set) is the use of dates. 8 columns involve dates.\n",
    "\n",
    "# take note of the columns representing calendar dates\n",
    "date.columns <- c(11, 12, 14, 15, 16, 17, 18, 25)"
   ]
  },
  {
   "cell_type": "code",
   "execution_count": 2,
   "metadata": {},
   "outputs": [],
   "source": [
    "# these columns need some tweaking--I want to address missing values, calling the blank (empty) \n",
    "# elements \"NA\" instead of leaving them blank, and I wish to tell R these are \"Date\" objects.\n",
    "\n",
    "for(i in date.columns)  # this \"for loop\" only loops through the \"date.columns\" -- no other columns.\n",
    "\n",
    "  {\n",
    "  \n",
    "  # identify which values are missing in the \"i\"th column of the foo data set\n",
    "  which_values_are_missing <- which(as.character(foo[, i]) == \"\")\n",
    "  \n",
    "  # those values that are missing (blank) in the \"i\"th column are replaced by <NA>\n",
    "  # because R knows how to handle \"NA\" -- NA means something special in R--blanks are handled \n",
    "  # more unpredictably (which is bad).\n",
    "  foo[which_values_are_missing, i] <- NA\n",
    "  \n",
    "  # last step--replace each of these columns (which is structured as a column of \"factor\" values)\n",
    "  # as a column of dates--i.e., convert them to an object of \"class\" = Date. They are dates, after all.\n",
    "  # And if you convert them to the Date class, R will know they are dates and you can manipulate \n",
    "  # dates in a simple, straightforward way. Otherwise, you won't be able to easily manipulate them\n",
    "  # arithmetically.  E.g., for simple Date operations, see lines 48-58 below...\n",
    "  # **By the way, if you don't understand what a \"factor\" is in R, you should Google it.** \n",
    "  foo[, i] <- as.Date(as.character(foo[, i]))\n",
    "\n",
    "}"
   ]
  },
  {
   "cell_type": "code",
   "execution_count": 3,
   "metadata": {},
   "outputs": [
    {
     "data": {
      "text/html": [
       "<time datetime=\"1968-03-13\">1968-03-13</time>"
      ],
      "text/latex": [
       "1968-03-13"
      ],
      "text/markdown": [
       "1968-03-13"
      ],
      "text/plain": [
       "[1] \"1968-03-13\""
      ]
     },
     "metadata": {},
     "output_type": "display_data"
    }
   ],
   "source": [
    "# Now R knows that these columns are comprised of dates\n",
    "# After replication, I obtain the same results as the github post. \n",
    "\n",
    "foo[3,12]"
   ]
  },
  {
   "cell_type": "code",
   "execution_count": 4,
   "metadata": {},
   "outputs": [
    {
     "data": {
      "text/html": [
       "<time datetime=\"1968-07-03\">1968-07-03</time>"
      ],
      "text/latex": [
       "1968-07-03"
      ],
      "text/markdown": [
       "1968-07-03"
      ],
      "text/plain": [
       "[1] \"1968-07-03\""
      ]
     },
     "metadata": {},
     "output_type": "display_data"
    }
   ],
   "source": [
    "foo[4,12]"
   ]
  },
  {
   "cell_type": "code",
   "execution_count": 5,
   "metadata": {},
   "outputs": [
    {
     "data": {
      "text/plain": [
       "Time difference of -112 days"
      ]
     },
     "metadata": {},
     "output_type": "display_data"
    }
   ],
   "source": [
    "foo[3,12] - foo[4,12]"
   ]
  },
  {
   "cell_type": "code",
   "execution_count": 6,
   "metadata": {},
   "outputs": [],
   "source": [
    "# Also, one additional helpful hint... How to eliminate rows with NAs...\n",
    "# The \"is.na\" function--for more info, Google it or type ?is.na at the R command prompt in the console.\n",
    "which.have.NAs <- which(is.na(foo$Rating == TRUE)) # for which rows is the claim \"is.na\" a TRUE claim?\n",
    "\n",
    "# Then, if you wanted to, e.g., remove all those rows, retaining only the rows with ratings...\n",
    "new_foo <- foo[-which.have.NAs, ]\n",
    "# Notice I called this tweaked data set \"new_foo\" instead of rewriting over the original data set...\n",
    "# It's a bit safer to do this, in case I decide I want to quickly revert back to the original data set.\n"
   ]
  },
  {
   "cell_type": "code",
   "execution_count": 7,
   "metadata": {},
   "outputs": [
    {
     "data": {
      "text/html": [
       "<table>\n",
       "<thead><tr><th></th><th scope=col>Number</th><th scope=col>Status</th><th scope=col>Cluster</th><th scope=col>Prefix</th><th scope=col>Type</th><th scope=col>Country</th><th scope=col>Dept</th><th scope=col>Division</th><th scope=col>LTAA</th><th scope=col>Loan</th><th scope=col>...</th><th scope=col>FinancialCompletionDate</th><th scope=col>OriginalCompletionDate</th><th scope=col>RevisedCompletionDate</th><th scope=col>JSF</th><th scope=col>Fund</th><th scope=col>RevisedAmount</th><th scope=col>Rating</th><th scope=col>No</th><th scope=col>PCR</th><th scope=col>CirculationDate</th></tr></thead>\n",
       "<tbody>\n",
       "\t<tr><th scope=row>1576</th><td>1243                                                </td><td>Financially Completed                               </td><td>                                                    </td><td>                                                    </td><td>ADTA                                                </td><td>PHI                                                 </td><td>RMU                                                 </td><td>AEFN                                                </td><td>Agriculture, natural resources and rural development</td><td> 999                                                </td><td>...                                                 </td><td>1997-01-31                                          </td><td>NA                                                  </td><td>1992-04-30                                          </td><td>NA                                                  </td><td>2                                                   </td><td>0.60                                                </td><td>0                                                   </td><td>                                                    </td><td>173-03                                              </td><td>2003-07-28                                          </td></tr>\n",
       "\t<tr><th scope=row>1581</th><td>1248                                                </td><td>Financially Completed                               </td><td>                                                    </td><td>                                                    </td><td>ADTA                                                </td><td>PAK                                                 </td><td>AWD                                                 </td><td>AWWU                                                </td><td>Water and other urban infrastructure and services   </td><td>1004                                                </td><td>...                                                 </td><td>1994-03-31                                          </td><td>NA                                                  </td><td>NA                                                  </td><td> 1                                                  </td><td>4                                                   </td><td>0.70                                                </td><td>2                                                   </td><td>                                                    </td><td>307-03                                              </td><td>2003-12-10                                          </td></tr>\n",
       "\t<tr><th scope=row>1582</th><td>1249                                                </td><td>Financially Completed                               </td><td>                                                    </td><td>                                                    </td><td>ADTA                                                </td><td>PAK                                                 </td><td>AWD                                                 </td><td>AWWU                                                </td><td>Water and other urban infrastructure and services   </td><td>1004                                                </td><td>...                                                 </td><td>1996-05-31                                          </td><td>NA                                                  </td><td>NA                                                  </td><td> 1                                                  </td><td>4                                                   </td><td>0.60                                                </td><td>3                                                   </td><td>                                                    </td><td>307-03                                              </td><td>2003-12-10                                          </td></tr>\n",
       "\t<tr><th scope=row>1583</th><td>1250                                                </td><td>Financially Completed                               </td><td>                                                    </td><td>S                                                   </td><td>PPTA                                                </td><td>TON                                                 </td><td>VPPC                                                </td><td>EIPE                                                </td><td>Energy                                              </td><td>   0                                                </td><td>...                                                 </td><td>1992-01-31                                          </td><td>NA                                                  </td><td>1992-01-31                                          </td><td>NA                                                  </td><td>2                                                   </td><td>0.10                                                </td><td>2                                                   </td><td>79-97                                               </td><td>                                                    </td><td>1997-05-16                                          </td></tr>\n",
       "\t<tr><th scope=row>1746</th><td>1365                                                </td><td>Financially Completed                               </td><td>                                                    </td><td>                                                    </td><td>ADTA                                                </td><td>IND                                                 </td><td>IWD                                                 </td><td>IWEN                                                </td><td>Energy                                              </td><td>1029                                                </td><td>...                                                 </td><td>1998-05-31                                          </td><td>NA                                                  </td><td>NA                                                  </td><td>NA                                                  </td><td>2                                                   </td><td>0.74                                                </td><td>2                                                   </td><td>                                                    </td><td>318-02                                              </td><td>2002-12-12                                          </td></tr>\n",
       "\t<tr><th scope=row>1747</th><td>1366                                                </td><td>Financially Completed                               </td><td>                                                    </td><td>                                                    </td><td>ADTA                                                </td><td>IND                                                 </td><td>VPPC                                                </td><td>EIPW                                                </td><td>Energy                                              </td><td>1029                                                </td><td>...                                                 </td><td>1995-12-31                                          </td><td>NA                                                  </td><td>NA                                                  </td><td>NA                                                  </td><td>2                                                   </td><td>0.49                                                </td><td>2                                                   </td><td>                                                    </td><td>318-02                                              </td><td>2002-12-12                                          </td></tr>\n",
       "</tbody>\n",
       "</table>\n"
      ],
      "text/latex": [
       "\\begin{tabular}{r|lllllllllllllllllllllllll}\n",
       "  & Number & Status & Cluster & Prefix & Type & Country & Dept & Division & LTAA & Loan & ... & FinancialCompletionDate & OriginalCompletionDate & RevisedCompletionDate & JSF & Fund & RevisedAmount & Rating & No & PCR & CirculationDate\\\\\n",
       "\\hline\n",
       "\t1576 & 1243                                                 & Financially Completed                                &                                                      &                                                      & ADTA                                                 & PHI                                                  & RMU                                                  & AEFN                                                 & Agriculture, natural resources and rural development &  999                                                 & ...                                                  & 1997-01-31                                           & NA                                                   & 1992-04-30                                           & NA                                                   & 2                                                    & 0.60                                                 & 0                                                    &                                                      & 173-03                                               & 2003-07-28                                          \\\\\n",
       "\t1581 & 1248                                                 & Financially Completed                                &                                                      &                                                      & ADTA                                                 & PAK                                                  & AWD                                                  & AWWU                                                 & Water and other urban infrastructure and services    & 1004                                                 & ...                                                  & 1994-03-31                                           & NA                                                   & NA                                                   &  1                                                   & 4                                                    & 0.70                                                 & 2                                                    &                                                      & 307-03                                               & 2003-12-10                                          \\\\\n",
       "\t1582 & 1249                                                 & Financially Completed                                &                                                      &                                                      & ADTA                                                 & PAK                                                  & AWD                                                  & AWWU                                                 & Water and other urban infrastructure and services    & 1004                                                 & ...                                                  & 1996-05-31                                           & NA                                                   & NA                                                   &  1                                                   & 4                                                    & 0.60                                                 & 3                                                    &                                                      & 307-03                                               & 2003-12-10                                          \\\\\n",
       "\t1583 & 1250                                                 & Financially Completed                                &                                                      & S                                                    & PPTA                                                 & TON                                                  & VPPC                                                 & EIPE                                                 & Energy                                               &    0                                                 & ...                                                  & 1992-01-31                                           & NA                                                   & 1992-01-31                                           & NA                                                   & 2                                                    & 0.10                                                 & 2                                                    & 79-97                                                &                                                      & 1997-05-16                                          \\\\\n",
       "\t1746 & 1365                                                 & Financially Completed                                &                                                      &                                                      & ADTA                                                 & IND                                                  & IWD                                                  & IWEN                                                 & Energy                                               & 1029                                                 & ...                                                  & 1998-05-31                                           & NA                                                   & NA                                                   & NA                                                   & 2                                                    & 0.74                                                 & 2                                                    &                                                      & 318-02                                               & 2002-12-12                                          \\\\\n",
       "\t1747 & 1366                                                 & Financially Completed                                &                                                      &                                                      & ADTA                                                 & IND                                                  & VPPC                                                 & EIPW                                                 & Energy                                               & 1029                                                 & ...                                                  & 1995-12-31                                           & NA                                                   & NA                                                   & NA                                                   & 2                                                    & 0.49                                                 & 2                                                    &                                                      & 318-02                                               & 2002-12-12                                          \\\\\n",
       "\\end{tabular}\n"
      ],
      "text/markdown": [
       "\n",
       "| <!--/--> | Number | Status | Cluster | Prefix | Type | Country | Dept | Division | LTAA | Loan | ... | FinancialCompletionDate | OriginalCompletionDate | RevisedCompletionDate | JSF | Fund | RevisedAmount | Rating | No | PCR | CirculationDate | \n",
       "|---|---|---|---|---|---|\n",
       "| 1576 | 1243                                                 | Financially Completed                                |                                                      |                                                      | ADTA                                                 | PHI                                                  | RMU                                                  | AEFN                                                 | Agriculture, natural resources and rural development |  999                                                 | ...                                                  | 1997-01-31                                           | NA                                                   | 1992-04-30                                           | NA                                                   | 2                                                    | 0.60                                                 | 0                                                    |                                                      | 173-03                                               | 2003-07-28                                           | \n",
       "| 1581 | 1248                                                 | Financially Completed                                |                                                      |                                                      | ADTA                                                 | PAK                                                  | AWD                                                  | AWWU                                                 | Water and other urban infrastructure and services    | 1004                                                 | ...                                                  | 1994-03-31                                           | NA                                                   | NA                                                   |  1                                                   | 4                                                    | 0.70                                                 | 2                                                    |                                                      | 307-03                                               | 2003-12-10                                           | \n",
       "| 1582 | 1249                                                 | Financially Completed                                |                                                      |                                                      | ADTA                                                 | PAK                                                  | AWD                                                  | AWWU                                                 | Water and other urban infrastructure and services    | 1004                                                 | ...                                                  | 1996-05-31                                           | NA                                                   | NA                                                   |  1                                                   | 4                                                    | 0.60                                                 | 3                                                    |                                                      | 307-03                                               | 2003-12-10                                           | \n",
       "| 1583 | 1250                                                 | Financially Completed                                |                                                      | S                                                    | PPTA                                                 | TON                                                  | VPPC                                                 | EIPE                                                 | Energy                                               |    0                                                 | ...                                                  | 1992-01-31                                           | NA                                                   | 1992-01-31                                           | NA                                                   | 2                                                    | 0.10                                                 | 2                                                    | 79-97                                                |                                                      | 1997-05-16                                           | \n",
       "| 1746 | 1365                                                 | Financially Completed                                |                                                      |                                                      | ADTA                                                 | IND                                                  | IWD                                                  | IWEN                                                 | Energy                                               | 1029                                                 | ...                                                  | 1998-05-31                                           | NA                                                   | NA                                                   | NA                                                   | 2                                                    | 0.74                                                 | 2                                                    |                                                      | 318-02                                               | 2002-12-12                                           | \n",
       "| 1747 | 1366                                                 | Financially Completed                                |                                                      |                                                      | ADTA                                                 | IND                                                  | VPPC                                                 | EIPW                                                 | Energy                                               | 1029                                                 | ...                                                  | 1995-12-31                                           | NA                                                   | NA                                                   | NA                                                   | 2                                                    | 0.49                                                 | 2                                                    |                                                      | 318-02                                               | 2002-12-12                                           | \n",
       "\n",
       "\n"
      ],
      "text/plain": [
       "     Number Status                Cluster Prefix Type Country Dept Division\n",
       "1576 1243   Financially Completed                ADTA PHI     RMU  AEFN    \n",
       "1581 1248   Financially Completed                ADTA PAK     AWD  AWWU    \n",
       "1582 1249   Financially Completed                ADTA PAK     AWD  AWWU    \n",
       "1583 1250   Financially Completed         S      PPTA TON     VPPC EIPE    \n",
       "1746 1365   Financially Completed                ADTA IND     IWD  IWEN    \n",
       "1747 1366   Financially Completed                ADTA IND     VPPC EIPW    \n",
       "     LTAA                                                 Loan ...\n",
       "1576 Agriculture, natural resources and rural development  999 ...\n",
       "1581 Water and other urban infrastructure and services    1004 ...\n",
       "1582 Water and other urban infrastructure and services    1004 ...\n",
       "1583 Energy                                                  0 ...\n",
       "1746 Energy                                               1029 ...\n",
       "1747 Energy                                               1029 ...\n",
       "     FinancialCompletionDate OriginalCompletionDate RevisedCompletionDate JSF\n",
       "1576 1997-01-31              <NA>                   1992-04-30            NA \n",
       "1581 1994-03-31              <NA>                   <NA>                   1 \n",
       "1582 1996-05-31              <NA>                   <NA>                   1 \n",
       "1583 1992-01-31              <NA>                   1992-01-31            NA \n",
       "1746 1998-05-31              <NA>                   <NA>                  NA \n",
       "1747 1995-12-31              <NA>                   <NA>                  NA \n",
       "     Fund RevisedAmount Rating No    PCR    CirculationDate\n",
       "1576 2    0.60          0            173-03 2003-07-28     \n",
       "1581 4    0.70          2            307-03 2003-12-10     \n",
       "1582 4    0.60          3            307-03 2003-12-10     \n",
       "1583 2    0.10          2      79-97        1997-05-16     \n",
       "1746 2    0.74          2            318-02 2002-12-12     \n",
       "1747 2    0.49          2            318-02 2002-12-12     "
      ]
     },
     "metadata": {},
     "output_type": "display_data"
    }
   ],
   "source": [
    "head(new_foo)"
   ]
  },
  {
   "cell_type": "code",
   "execution_count": 8,
   "metadata": {},
   "outputs": [
    {
     "data": {
      "text/html": [
       "<ol class=list-inline>\n",
       "\t<li>'Number'</li>\n",
       "\t<li>'Status'</li>\n",
       "\t<li>'Cluster'</li>\n",
       "\t<li>'Prefix'</li>\n",
       "\t<li>'Type'</li>\n",
       "\t<li>'Country'</li>\n",
       "\t<li>'Dept'</li>\n",
       "\t<li>'Division'</li>\n",
       "\t<li>'LTAA'</li>\n",
       "\t<li>'Loan'</li>\n",
       "\t<li>'ApprovalDate'</li>\n",
       "\t<li>'AgreementDate'</li>\n",
       "\t<li>'Agreement'</li>\n",
       "\t<li>'EffectivityDate'</li>\n",
       "\t<li>'CancellationDate'</li>\n",
       "\t<li>'FinancialCompletionDate'</li>\n",
       "\t<li>'OriginalCompletionDate'</li>\n",
       "\t<li>'RevisedCompletionDate'</li>\n",
       "\t<li>'JSF'</li>\n",
       "\t<li>'Fund'</li>\n",
       "\t<li>'RevisedAmount'</li>\n",
       "\t<li>'Rating'</li>\n",
       "\t<li>'No'</li>\n",
       "\t<li>'PCR'</li>\n",
       "\t<li>'CirculationDate'</li>\n",
       "</ol>\n"
      ],
      "text/latex": [
       "\\begin{enumerate*}\n",
       "\\item 'Number'\n",
       "\\item 'Status'\n",
       "\\item 'Cluster'\n",
       "\\item 'Prefix'\n",
       "\\item 'Type'\n",
       "\\item 'Country'\n",
       "\\item 'Dept'\n",
       "\\item 'Division'\n",
       "\\item 'LTAA'\n",
       "\\item 'Loan'\n",
       "\\item 'ApprovalDate'\n",
       "\\item 'AgreementDate'\n",
       "\\item 'Agreement'\n",
       "\\item 'EffectivityDate'\n",
       "\\item 'CancellationDate'\n",
       "\\item 'FinancialCompletionDate'\n",
       "\\item 'OriginalCompletionDate'\n",
       "\\item 'RevisedCompletionDate'\n",
       "\\item 'JSF'\n",
       "\\item 'Fund'\n",
       "\\item 'RevisedAmount'\n",
       "\\item 'Rating'\n",
       "\\item 'No'\n",
       "\\item 'PCR'\n",
       "\\item 'CirculationDate'\n",
       "\\end{enumerate*}\n"
      ],
      "text/markdown": [
       "1. 'Number'\n",
       "2. 'Status'\n",
       "3. 'Cluster'\n",
       "4. 'Prefix'\n",
       "5. 'Type'\n",
       "6. 'Country'\n",
       "7. 'Dept'\n",
       "8. 'Division'\n",
       "9. 'LTAA'\n",
       "10. 'Loan'\n",
       "11. 'ApprovalDate'\n",
       "12. 'AgreementDate'\n",
       "13. 'Agreement'\n",
       "14. 'EffectivityDate'\n",
       "15. 'CancellationDate'\n",
       "16. 'FinancialCompletionDate'\n",
       "17. 'OriginalCompletionDate'\n",
       "18. 'RevisedCompletionDate'\n",
       "19. 'JSF'\n",
       "20. 'Fund'\n",
       "21. 'RevisedAmount'\n",
       "22. 'Rating'\n",
       "23. 'No'\n",
       "24. 'PCR'\n",
       "25. 'CirculationDate'\n",
       "\n",
       "\n"
      ],
      "text/plain": [
       " [1] \"Number\"                  \"Status\"                 \n",
       " [3] \"Cluster\"                 \"Prefix\"                 \n",
       " [5] \"Type\"                    \"Country\"                \n",
       " [7] \"Dept\"                    \"Division\"               \n",
       " [9] \"LTAA\"                    \"Loan\"                   \n",
       "[11] \"ApprovalDate\"            \"AgreementDate\"          \n",
       "[13] \"Agreement\"               \"EffectivityDate\"        \n",
       "[15] \"CancellationDate\"        \"FinancialCompletionDate\"\n",
       "[17] \"OriginalCompletionDate\"  \"RevisedCompletionDate\"  \n",
       "[19] \"JSF\"                     \"Fund\"                   \n",
       "[21] \"RevisedAmount\"           \"Rating\"                 \n",
       "[23] \"No\"                      \"PCR\"                    \n",
       "[25] \"CirculationDate\"        "
      ]
     },
     "metadata": {},
     "output_type": "display_data"
    }
   ],
   "source": [
    "names(new_foo)"
   ]
  },
  {
   "cell_type": "markdown",
   "metadata": {},
   "source": [
    "# Questions"
   ]
  },
  {
   "cell_type": "markdown",
   "metadata": {},
   "source": [
    "### (1) When projects are approved, they are approved for a certain period of time (until the time of \"original completion date\"). While projects are active, this \"original\" completion date is often pushed out (extended), and then there is a \"revised\" completion date. \n",
    "\n",
    "You have been told that project duration at approval is generally about 2 years (24 months). In other words, (purportedly) when projects are approved, the difference between the original project completion date and the the approval date is (supposedly) approximately 24 months. "
   ]
  },
  {
   "cell_type": "markdown",
   "metadata": {},
   "source": [
    "### a) Is this claim true? Explain. (Remember, for this ENTIRE assignment, only consider projects with Circulation.Date >= 2008-01-01. This will be your only reminder...)"
   ]
  },
  {
   "cell_type": "code",
   "execution_count": 9,
   "metadata": {},
   "outputs": [],
   "source": [
    "#I will initialize a vector test_foo for the dataset with non-missing \"Circulation.Date\" >= 2008-01-01.\n",
    "\n",
    "test_foo <- new_foo[which(new_foo$CirculationDate >= \"2008-01-01\"),]"
   ]
  },
  {
   "cell_type": "code",
   "execution_count": 259,
   "metadata": {},
   "outputs": [
    {
     "data": {
      "text/html": [
       "<ol class=list-inline>\n",
       "\t<li>1869</li>\n",
       "\t<li>27</li>\n",
       "</ol>\n"
      ],
      "text/latex": [
       "\\begin{enumerate*}\n",
       "\\item 1869\n",
       "\\item 27\n",
       "\\end{enumerate*}\n"
      ],
      "text/markdown": [
       "1. 1869\n",
       "2. 27\n",
       "\n",
       "\n"
      ],
      "text/plain": [
       "[1] 1869   27"
      ]
     },
     "metadata": {},
     "output_type": "display_data"
    }
   ],
   "source": [
    "dim(test_foo)"
   ]
  },
  {
   "cell_type": "code",
   "execution_count": 10,
   "metadata": {},
   "outputs": [
    {
     "data": {
      "text/html": [
       "<table>\n",
       "<thead><tr><th></th><th scope=col>Number</th><th scope=col>Status</th><th scope=col>Cluster</th><th scope=col>Prefix</th><th scope=col>Type</th><th scope=col>Country</th><th scope=col>Dept</th><th scope=col>Division</th><th scope=col>LTAA</th><th scope=col>Loan</th><th scope=col>...</th><th scope=col>FinancialCompletionDate</th><th scope=col>OriginalCompletionDate</th><th scope=col>RevisedCompletionDate</th><th scope=col>JSF</th><th scope=col>Fund</th><th scope=col>RevisedAmount</th><th scope=col>Rating</th><th scope=col>No</th><th scope=col>PCR</th><th scope=col>CirculationDate</th></tr></thead>\n",
       "<tbody>\n",
       "\t<tr><th scope=row>2529</th><td>2001                    </td><td>Financially Completed   </td><td>                        </td><td>                        </td><td>ADTA                    </td><td>IND                     </td><td>IWD                     </td><td>IWTC                    </td><td>Transport               </td><td>1274                    </td><td>...                     </td><td>1998-08-31              </td><td>NA                      </td><td>1996-06-30              </td><td>NA                      </td><td>2                       </td><td>0.21                    </td><td>2                       </td><td>                        </td><td>13-08                   </td><td>2008-01-17              </td></tr>\n",
       "\t<tr><th scope=row>2530</th><td>2002                    </td><td>Financially Completed   </td><td>                        </td><td>                        </td><td>ADTA                    </td><td>IND                     </td><td>IWD                     </td><td>IWTC                    </td><td>Transport               </td><td>1274                    </td><td>...                     </td><td>1998-05-31              </td><td>NA                      </td><td>1995-11-30              </td><td>NA                      </td><td>2                       </td><td>0.24                    </td><td>2                       </td><td>                        </td><td>13-08                   </td><td>2008-01-17              </td></tr>\n",
       "\t<tr><th scope=row>2531</th><td>2003                    </td><td>Financially Completed   </td><td>                        </td><td>                        </td><td>ADTA                    </td><td>IND                     </td><td>IWD                     </td><td>IWTC                    </td><td>Transport               </td><td>1274                    </td><td>...                     </td><td>1998-04-30              </td><td>NA                      </td><td>1995-11-30              </td><td>NA                      </td><td>2                       </td><td>0.35                    </td><td>2                       </td><td>                        </td><td>13-08                   </td><td>2008-01-17              </td></tr>\n",
       "\t<tr><th scope=row>2754</th><td>5600                    </td><td>Financially Completed   </td><td>                        </td><td>R                       </td><td>RETA                    </td><td>REG                     </td><td>PPFD                    </td><td>COCS                    </td><td>Public sector management</td><td>   0                    </td><td>...                     </td><td>2004-10-29              </td><td>2003-12-31              </td><td>2003-12-31              </td><td>NA                      </td><td>2                       </td><td>0.12                    </td><td>2                       </td><td>20-10                   </td><td>                        </td><td>2010-01-15              </td></tr>\n",
       "\t<tr><th scope=row>2904</th><td>5624                    </td><td>Financially Completed   </td><td>                        </td><td>R                       </td><td>RETA                    </td><td>REG                     </td><td>PPFD                    </td><td>COPP                    </td><td>Public sector management</td><td>   0                    </td><td>...                     </td><td>2002-04-30              </td><td>NA                      </td><td>1997-12-31              </td><td>NA                      </td><td>2                       </td><td>0.60                    </td><td>3                       </td><td>471-09                  </td><td>                        </td><td>2009-12-29              </td></tr>\n",
       "\t<tr><th scope=row>3059</th><td>2440                    </td><td>Financially Completed   </td><td>                        </td><td>                        </td><td>ADTA                    </td><td>MLD                     </td><td>SFSP-AUS                </td><td>SAOC**                  </td><td>Public sector management</td><td>   0                    </td><td>...                     </td><td>2003-04-30              </td><td>NA                      </td><td>1998-06-30              </td><td>NA                      </td><td>2                       </td><td>0.40                    </td><td>2                       </td><td>309-09                  </td><td>                        </td><td>2009-10-30              </td></tr>\n",
       "</tbody>\n",
       "</table>\n"
      ],
      "text/latex": [
       "\\begin{tabular}{r|lllllllllllllllllllllllll}\n",
       "  & Number & Status & Cluster & Prefix & Type & Country & Dept & Division & LTAA & Loan & ... & FinancialCompletionDate & OriginalCompletionDate & RevisedCompletionDate & JSF & Fund & RevisedAmount & Rating & No & PCR & CirculationDate\\\\\n",
       "\\hline\n",
       "\t2529 & 2001                     & Financially Completed    &                          &                          & ADTA                     & IND                      & IWD                      & IWTC                     & Transport                & 1274                     & ...                      & 1998-08-31               & NA                       & 1996-06-30               & NA                       & 2                        & 0.21                     & 2                        &                          & 13-08                    & 2008-01-17              \\\\\n",
       "\t2530 & 2002                     & Financially Completed    &                          &                          & ADTA                     & IND                      & IWD                      & IWTC                     & Transport                & 1274                     & ...                      & 1998-05-31               & NA                       & 1995-11-30               & NA                       & 2                        & 0.24                     & 2                        &                          & 13-08                    & 2008-01-17              \\\\\n",
       "\t2531 & 2003                     & Financially Completed    &                          &                          & ADTA                     & IND                      & IWD                      & IWTC                     & Transport                & 1274                     & ...                      & 1998-04-30               & NA                       & 1995-11-30               & NA                       & 2                        & 0.35                     & 2                        &                          & 13-08                    & 2008-01-17              \\\\\n",
       "\t2754 & 5600                     & Financially Completed    &                          & R                        & RETA                     & REG                      & PPFD                     & COCS                     & Public sector management &    0                     & ...                      & 2004-10-29               & 2003-12-31               & 2003-12-31               & NA                       & 2                        & 0.12                     & 2                        & 20-10                    &                          & 2010-01-15              \\\\\n",
       "\t2904 & 5624                     & Financially Completed    &                          & R                        & RETA                     & REG                      & PPFD                     & COPP                     & Public sector management &    0                     & ...                      & 2002-04-30               & NA                       & 1997-12-31               & NA                       & 2                        & 0.60                     & 3                        & 471-09                   &                          & 2009-12-29              \\\\\n",
       "\t3059 & 2440                     & Financially Completed    &                          &                          & ADTA                     & MLD                      & SFSP-AUS                 & SAOC**                   & Public sector management &    0                     & ...                      & 2003-04-30               & NA                       & 1998-06-30               & NA                       & 2                        & 0.40                     & 2                        & 309-09                   &                          & 2009-10-30              \\\\\n",
       "\\end{tabular}\n"
      ],
      "text/markdown": [
       "\n",
       "| <!--/--> | Number | Status | Cluster | Prefix | Type | Country | Dept | Division | LTAA | Loan | ... | FinancialCompletionDate | OriginalCompletionDate | RevisedCompletionDate | JSF | Fund | RevisedAmount | Rating | No | PCR | CirculationDate | \n",
       "|---|---|---|---|---|---|\n",
       "| 2529 | 2001                     | Financially Completed    |                          |                          | ADTA                     | IND                      | IWD                      | IWTC                     | Transport                | 1274                     | ...                      | 1998-08-31               | NA                       | 1996-06-30               | NA                       | 2                        | 0.21                     | 2                        |                          | 13-08                    | 2008-01-17               | \n",
       "| 2530 | 2002                     | Financially Completed    |                          |                          | ADTA                     | IND                      | IWD                      | IWTC                     | Transport                | 1274                     | ...                      | 1998-05-31               | NA                       | 1995-11-30               | NA                       | 2                        | 0.24                     | 2                        |                          | 13-08                    | 2008-01-17               | \n",
       "| 2531 | 2003                     | Financially Completed    |                          |                          | ADTA                     | IND                      | IWD                      | IWTC                     | Transport                | 1274                     | ...                      | 1998-04-30               | NA                       | 1995-11-30               | NA                       | 2                        | 0.35                     | 2                        |                          | 13-08                    | 2008-01-17               | \n",
       "| 2754 | 5600                     | Financially Completed    |                          | R                        | RETA                     | REG                      | PPFD                     | COCS                     | Public sector management |    0                     | ...                      | 2004-10-29               | 2003-12-31               | 2003-12-31               | NA                       | 2                        | 0.12                     | 2                        | 20-10                    |                          | 2010-01-15               | \n",
       "| 2904 | 5624                     | Financially Completed    |                          | R                        | RETA                     | REG                      | PPFD                     | COPP                     | Public sector management |    0                     | ...                      | 2002-04-30               | NA                       | 1997-12-31               | NA                       | 2                        | 0.60                     | 3                        | 471-09                   |                          | 2009-12-29               | \n",
       "| 3059 | 2440                     | Financially Completed    |                          |                          | ADTA                     | MLD                      | SFSP-AUS                 | SAOC**                   | Public sector management |    0                     | ...                      | 2003-04-30               | NA                       | 1998-06-30               | NA                       | 2                        | 0.40                     | 2                        | 309-09                   |                          | 2009-10-30               | \n",
       "\n",
       "\n"
      ],
      "text/plain": [
       "     Number Status                Cluster Prefix Type Country Dept     Division\n",
       "2529 2001   Financially Completed                ADTA IND     IWD      IWTC    \n",
       "2530 2002   Financially Completed                ADTA IND     IWD      IWTC    \n",
       "2531 2003   Financially Completed                ADTA IND     IWD      IWTC    \n",
       "2754 5600   Financially Completed         R      RETA REG     PPFD     COCS    \n",
       "2904 5624   Financially Completed         R      RETA REG     PPFD     COPP    \n",
       "3059 2440   Financially Completed                ADTA MLD     SFSP-AUS SAOC**  \n",
       "     LTAA                     Loan ... FinancialCompletionDate\n",
       "2529 Transport                1274 ... 1998-08-31             \n",
       "2530 Transport                1274 ... 1998-05-31             \n",
       "2531 Transport                1274 ... 1998-04-30             \n",
       "2754 Public sector management    0 ... 2004-10-29             \n",
       "2904 Public sector management    0 ... 2002-04-30             \n",
       "3059 Public sector management    0 ... 2003-04-30             \n",
       "     OriginalCompletionDate RevisedCompletionDate JSF Fund RevisedAmount Rating\n",
       "2529 <NA>                   1996-06-30            NA  2    0.21          2     \n",
       "2530 <NA>                   1995-11-30            NA  2    0.24          2     \n",
       "2531 <NA>                   1995-11-30            NA  2    0.35          2     \n",
       "2754 2003-12-31             2003-12-31            NA  2    0.12          2     \n",
       "2904 <NA>                   1997-12-31            NA  2    0.60          3     \n",
       "3059 <NA>                   1998-06-30            NA  2    0.40          2     \n",
       "     No     PCR   CirculationDate\n",
       "2529        13-08 2008-01-17     \n",
       "2530        13-08 2008-01-17     \n",
       "2531        13-08 2008-01-17     \n",
       "2754 20-10        2010-01-15     \n",
       "2904 471-09       2009-12-29     \n",
       "3059 309-09       2009-10-30     "
      ]
     },
     "metadata": {},
     "output_type": "display_data"
    }
   ],
   "source": [
    "head(test_foo)"
   ]
  },
  {
   "cell_type": "code",
   "execution_count": 11,
   "metadata": {},
   "outputs": [],
   "source": [
    "# I am adding a new column to the dataset which lists the project duration in units of days \n",
    "test_foo$ProjectDuration <- test_foo$OriginalCompletionDate-test_foo$ApprovalDate"
   ]
  },
  {
   "cell_type": "code",
   "execution_count": 12,
   "metadata": {},
   "outputs": [
    {
     "data": {
      "text/html": [
       "<table>\n",
       "<thead><tr><th></th><th scope=col>Number</th><th scope=col>Status</th><th scope=col>Cluster</th><th scope=col>Prefix</th><th scope=col>Type</th><th scope=col>Country</th><th scope=col>Dept</th><th scope=col>Division</th><th scope=col>LTAA</th><th scope=col>Loan</th><th scope=col>...</th><th scope=col>OriginalCompletionDate</th><th scope=col>RevisedCompletionDate</th><th scope=col>JSF</th><th scope=col>Fund</th><th scope=col>RevisedAmount</th><th scope=col>Rating</th><th scope=col>No</th><th scope=col>PCR</th><th scope=col>CirculationDate</th><th scope=col>ProjectDuration</th></tr></thead>\n",
       "<tbody>\n",
       "\t<tr><th scope=row>2529</th><td>2001                    </td><td>Financially Completed   </td><td>                        </td><td>                        </td><td>ADTA                    </td><td>IND                     </td><td>IWD                     </td><td>IWTC                    </td><td>Transport               </td><td>1274                    </td><td>...                     </td><td>NA                      </td><td>1996-06-30              </td><td>NA                      </td><td>2                       </td><td>0.21                    </td><td>2                       </td><td>                        </td><td>13-08                   </td><td>2008-01-17              </td><td>  NA days               </td></tr>\n",
       "\t<tr><th scope=row>2530</th><td>2002                    </td><td>Financially Completed   </td><td>                        </td><td>                        </td><td>ADTA                    </td><td>IND                     </td><td>IWD                     </td><td>IWTC                    </td><td>Transport               </td><td>1274                    </td><td>...                     </td><td>NA                      </td><td>1995-11-30              </td><td>NA                      </td><td>2                       </td><td>0.24                    </td><td>2                       </td><td>                        </td><td>13-08                   </td><td>2008-01-17              </td><td>  NA days               </td></tr>\n",
       "\t<tr><th scope=row>2531</th><td>2003                    </td><td>Financially Completed   </td><td>                        </td><td>                        </td><td>ADTA                    </td><td>IND                     </td><td>IWD                     </td><td>IWTC                    </td><td>Transport               </td><td>1274                    </td><td>...                     </td><td>NA                      </td><td>1995-11-30              </td><td>NA                      </td><td>2                       </td><td>0.35                    </td><td>2                       </td><td>                        </td><td>13-08                   </td><td>2008-01-17              </td><td>  NA days               </td></tr>\n",
       "\t<tr><th scope=row>2754</th><td>5600                    </td><td>Financially Completed   </td><td>                        </td><td>R                       </td><td>RETA                    </td><td>REG                     </td><td>PPFD                    </td><td>COCS                    </td><td>Public sector management</td><td>   0                    </td><td>...                     </td><td>2003-12-31              </td><td>2003-12-31              </td><td>NA                      </td><td>2                       </td><td>0.12                    </td><td>2                       </td><td>20-10                   </td><td>                        </td><td>2010-01-15              </td><td>3369 days               </td></tr>\n",
       "\t<tr><th scope=row>2904</th><td>5624                    </td><td>Financially Completed   </td><td>                        </td><td>R                       </td><td>RETA                    </td><td>REG                     </td><td>PPFD                    </td><td>COPP                    </td><td>Public sector management</td><td>   0                    </td><td>...                     </td><td>NA                      </td><td>1997-12-31              </td><td>NA                      </td><td>2                       </td><td>0.60                    </td><td>3                       </td><td>471-09                  </td><td>                        </td><td>2009-12-29              </td><td>  NA days               </td></tr>\n",
       "\t<tr><th scope=row>3059</th><td>2440                    </td><td>Financially Completed   </td><td>                        </td><td>                        </td><td>ADTA                    </td><td>MLD                     </td><td>SFSP-AUS                </td><td>SAOC**                  </td><td>Public sector management</td><td>   0                    </td><td>...                     </td><td>NA                      </td><td>1998-06-30              </td><td>NA                      </td><td>2                       </td><td>0.40                    </td><td>2                       </td><td>309-09                  </td><td>                        </td><td>2009-10-30              </td><td>  NA days               </td></tr>\n",
       "</tbody>\n",
       "</table>\n"
      ],
      "text/latex": [
       "\\begin{tabular}{r|llllllllllllllllllllllllll}\n",
       "  & Number & Status & Cluster & Prefix & Type & Country & Dept & Division & LTAA & Loan & ... & OriginalCompletionDate & RevisedCompletionDate & JSF & Fund & RevisedAmount & Rating & No & PCR & CirculationDate & ProjectDuration\\\\\n",
       "\\hline\n",
       "\t2529 & 2001                     & Financially Completed    &                          &                          & ADTA                     & IND                      & IWD                      & IWTC                     & Transport                & 1274                     & ...                      & NA                       & 1996-06-30               & NA                       & 2                        & 0.21                     & 2                        &                          & 13-08                    & 2008-01-17               &   NA days               \\\\\n",
       "\t2530 & 2002                     & Financially Completed    &                          &                          & ADTA                     & IND                      & IWD                      & IWTC                     & Transport                & 1274                     & ...                      & NA                       & 1995-11-30               & NA                       & 2                        & 0.24                     & 2                        &                          & 13-08                    & 2008-01-17               &   NA days               \\\\\n",
       "\t2531 & 2003                     & Financially Completed    &                          &                          & ADTA                     & IND                      & IWD                      & IWTC                     & Transport                & 1274                     & ...                      & NA                       & 1995-11-30               & NA                       & 2                        & 0.35                     & 2                        &                          & 13-08                    & 2008-01-17               &   NA days               \\\\\n",
       "\t2754 & 5600                     & Financially Completed    &                          & R                        & RETA                     & REG                      & PPFD                     & COCS                     & Public sector management &    0                     & ...                      & 2003-12-31               & 2003-12-31               & NA                       & 2                        & 0.12                     & 2                        & 20-10                    &                          & 2010-01-15               & 3369 days               \\\\\n",
       "\t2904 & 5624                     & Financially Completed    &                          & R                        & RETA                     & REG                      & PPFD                     & COPP                     & Public sector management &    0                     & ...                      & NA                       & 1997-12-31               & NA                       & 2                        & 0.60                     & 3                        & 471-09                   &                          & 2009-12-29               &   NA days               \\\\\n",
       "\t3059 & 2440                     & Financially Completed    &                          &                          & ADTA                     & MLD                      & SFSP-AUS                 & SAOC**                   & Public sector management &    0                     & ...                      & NA                       & 1998-06-30               & NA                       & 2                        & 0.40                     & 2                        & 309-09                   &                          & 2009-10-30               &   NA days               \\\\\n",
       "\\end{tabular}\n"
      ],
      "text/markdown": [
       "\n",
       "| <!--/--> | Number | Status | Cluster | Prefix | Type | Country | Dept | Division | LTAA | Loan | ... | OriginalCompletionDate | RevisedCompletionDate | JSF | Fund | RevisedAmount | Rating | No | PCR | CirculationDate | ProjectDuration | \n",
       "|---|---|---|---|---|---|\n",
       "| 2529 | 2001                     | Financially Completed    |                          |                          | ADTA                     | IND                      | IWD                      | IWTC                     | Transport                | 1274                     | ...                      | NA                       | 1996-06-30               | NA                       | 2                        | 0.21                     | 2                        |                          | 13-08                    | 2008-01-17               |   NA days                | \n",
       "| 2530 | 2002                     | Financially Completed    |                          |                          | ADTA                     | IND                      | IWD                      | IWTC                     | Transport                | 1274                     | ...                      | NA                       | 1995-11-30               | NA                       | 2                        | 0.24                     | 2                        |                          | 13-08                    | 2008-01-17               |   NA days                | \n",
       "| 2531 | 2003                     | Financially Completed    |                          |                          | ADTA                     | IND                      | IWD                      | IWTC                     | Transport                | 1274                     | ...                      | NA                       | 1995-11-30               | NA                       | 2                        | 0.35                     | 2                        |                          | 13-08                    | 2008-01-17               |   NA days                | \n",
       "| 2754 | 5600                     | Financially Completed    |                          | R                        | RETA                     | REG                      | PPFD                     | COCS                     | Public sector management |    0                     | ...                      | 2003-12-31               | 2003-12-31               | NA                       | 2                        | 0.12                     | 2                        | 20-10                    |                          | 2010-01-15               | 3369 days                | \n",
       "| 2904 | 5624                     | Financially Completed    |                          | R                        | RETA                     | REG                      | PPFD                     | COPP                     | Public sector management |    0                     | ...                      | NA                       | 1997-12-31               | NA                       | 2                        | 0.60                     | 3                        | 471-09                   |                          | 2009-12-29               |   NA days                | \n",
       "| 3059 | 2440                     | Financially Completed    |                          |                          | ADTA                     | MLD                      | SFSP-AUS                 | SAOC**                   | Public sector management |    0                     | ...                      | NA                       | 1998-06-30               | NA                       | 2                        | 0.40                     | 2                        | 309-09                   |                          | 2009-10-30               |   NA days                | \n",
       "\n",
       "\n"
      ],
      "text/plain": [
       "     Number Status                Cluster Prefix Type Country Dept     Division\n",
       "2529 2001   Financially Completed                ADTA IND     IWD      IWTC    \n",
       "2530 2002   Financially Completed                ADTA IND     IWD      IWTC    \n",
       "2531 2003   Financially Completed                ADTA IND     IWD      IWTC    \n",
       "2754 5600   Financially Completed         R      RETA REG     PPFD     COCS    \n",
       "2904 5624   Financially Completed         R      RETA REG     PPFD     COPP    \n",
       "3059 2440   Financially Completed                ADTA MLD     SFSP-AUS SAOC**  \n",
       "     LTAA                     Loan ... OriginalCompletionDate\n",
       "2529 Transport                1274 ... <NA>                  \n",
       "2530 Transport                1274 ... <NA>                  \n",
       "2531 Transport                1274 ... <NA>                  \n",
       "2754 Public sector management    0 ... 2003-12-31            \n",
       "2904 Public sector management    0 ... <NA>                  \n",
       "3059 Public sector management    0 ... <NA>                  \n",
       "     RevisedCompletionDate JSF Fund RevisedAmount Rating No     PCR  \n",
       "2529 1996-06-30            NA  2    0.21          2             13-08\n",
       "2530 1995-11-30            NA  2    0.24          2             13-08\n",
       "2531 1995-11-30            NA  2    0.35          2             13-08\n",
       "2754 2003-12-31            NA  2    0.12          2      20-10       \n",
       "2904 1997-12-31            NA  2    0.60          3      471-09      \n",
       "3059 1998-06-30            NA  2    0.40          2      309-09      \n",
       "     CirculationDate ProjectDuration\n",
       "2529 2008-01-17        NA days      \n",
       "2530 2008-01-17        NA days      \n",
       "2531 2008-01-17        NA days      \n",
       "2754 2010-01-15      3369 days      \n",
       "2904 2009-12-29        NA days      \n",
       "3059 2009-10-30        NA days      "
      ]
     },
     "metadata": {},
     "output_type": "display_data"
    }
   ],
   "source": [
    "head(test_foo)"
   ]
  },
  {
   "cell_type": "code",
   "execution_count": 13,
   "metadata": {},
   "outputs": [
    {
     "data": {
      "text/html": [
       "20"
      ],
      "text/latex": [
       "20"
      ],
      "text/markdown": [
       "20"
      ],
      "text/plain": [
       "[1] 20"
      ]
     },
     "metadata": {},
     "output_type": "display_data"
    },
    {
     "data": {
      "text/html": [
       "0"
      ],
      "text/latex": [
       "0"
      ],
      "text/markdown": [
       "0"
      ],
      "text/plain": [
       "[1] 0"
      ]
     },
     "metadata": {},
     "output_type": "display_data"
    }
   ],
   "source": [
    "#Upon inspecting the table, I realize that some projects don't have an original completion date. \n",
    "sum(is.na(test_foo$OriginalCompletionDate))\n",
    "sum(is.na(test_foo$ApprovalDate))"
   ]
  },
  {
   "cell_type": "code",
   "execution_count": 14,
   "metadata": {},
   "outputs": [
    {
     "data": {
      "text/html": [
       "1.76325448039296"
      ],
      "text/latex": [
       "1.76325448039296"
      ],
      "text/markdown": [
       "1.76325448039296"
      ],
      "text/plain": [
       "[1] 1.763254"
      ]
     },
     "metadata": {},
     "output_type": "display_data"
    },
    {
     "data": {
      "text/html": [
       "<dl class=dl-horizontal>\n",
       "\t<dt>0%</dt>\n",
       "\t\t<dd>0.0493150684931507</dd>\n",
       "\t<dt>25%</dt>\n",
       "\t\t<dd>1.09315068493151</dd>\n",
       "\t<dt>50%</dt>\n",
       "\t\t<dd>1.62191780821918</dd>\n",
       "\t<dt>75%</dt>\n",
       "\t\t<dd>2.14520547945205</dd>\n",
       "\t<dt>100%</dt>\n",
       "\t\t<dd>9.23013698630137</dd>\n",
       "</dl>\n"
      ],
      "text/latex": [
       "\\begin{description*}\n",
       "\\item[0\\textbackslash{}\\%] 0.0493150684931507\n",
       "\\item[25\\textbackslash{}\\%] 1.09315068493151\n",
       "\\item[50\\textbackslash{}\\%] 1.62191780821918\n",
       "\\item[75\\textbackslash{}\\%] 2.14520547945205\n",
       "\\item[100\\textbackslash{}\\%] 9.23013698630137\n",
       "\\end{description*}\n"
      ],
      "text/markdown": [
       "0%\n",
       ":   0.049315068493150725%\n",
       ":   1.0931506849315150%\n",
       ":   1.6219178082191875%\n",
       ":   2.14520547945205100%\n",
       ":   9.23013698630137\n",
       "\n"
      ],
      "text/plain": [
       "        0%        25%        50%        75%       100% \n",
       "0.04931507 1.09315068 1.62191781 2.14520548 9.23013699 "
      ]
     },
     "metadata": {},
     "output_type": "display_data"
    }
   ],
   "source": [
    "#Since there are 'NA' values in the ProjectDuration column, I will set the na.rm logical to TRUE so that R can remove the missing values. \n",
    "#I will also divide the result by 365 to evaluate the average project duration in years.\n",
    "mean(as.numeric(test_foo$ProjectDuration), na.rm = TRUE)/365\n",
    "quantile(as.numeric(test_foo$ProjectDuration), na.rm = TRUE)/365"
   ]
  },
  {
   "cell_type": "code",
   "execution_count": 260,
   "metadata": {},
   "outputs": [
    {
     "data": {
      "image/png": "[encoded data removed]",
      "text/plain": [
       "Plot with title \"Project Duration Distribution for Projects Circulated After 2008-01-01\""
      ]
     },
     "metadata": {},
     "output_type": "display_data"
    }
   ],
   "source": [
    "#Now, we will check the distribution of project duration in years to see how long different projects took to complete.\n",
    "hist(as.numeric(test_foo$ProjectDuration)/365, main=\"Project Duration Distribution for Projects Circulated After 2008-01-01\",xlab=\"Project Durations (months)\",col=\"gray\",label=TRUE,plot = TRUE)\n",
    "#Note that the hist function automatically removes NA values while plotting the histogram. "
   ]
  },
  {
   "cell_type": "markdown",
   "metadata": {},
   "source": [
    "The average completion date of projects is less than 1.76 years (mean), with 50% of the projects completing within 1.62 years (median), however, some projects might take up to 10 years to complete. Therefore, if we take 'generally' to mean a simple average of all project durations, then only is the claim correct. From the quantiles, we can observe that the highest 25% of project durations are greater than 2 years (precisely, 2.15 years). "
   ]
  },
  {
   "cell_type": "markdown",
   "metadata": {},
   "source": [
    "### Has project duration at approval changed over time (consider projects circulated earlier and circulated later)?"
   ]
  },
  {
   "cell_type": "code",
   "execution_count": 16,
   "metadata": {},
   "outputs": [
    {
     "data": {
      "text/html": [
       "<ol class=list-inline>\n",
       "\t<li><time datetime=\"2008-01-07\">2008-01-07</time></li>\n",
       "\t<li><time datetime=\"2018-06-29\">2018-06-29</time></li>\n",
       "</ol>\n"
      ],
      "text/latex": [
       "\\begin{enumerate*}\n",
       "\\item 2008-01-07\n",
       "\\item 2018-06-29\n",
       "\\end{enumerate*}\n"
      ],
      "text/markdown": [
       "1. 2008-01-07\n",
       "2. 2018-06-29\n",
       "\n",
       "\n"
      ],
      "text/plain": [
       "[1] \"2008-01-07\" \"2018-06-29\""
      ]
     },
     "metadata": {},
     "output_type": "display_data"
    }
   ],
   "source": [
    "range(test_foo$CirculationDate) #First, we will find the range of circulation dates. "
   ]
  },
  {
   "cell_type": "code",
   "execution_count": 17,
   "metadata": {},
   "outputs": [
    {
     "name": "stdout",
     "output_type": "stream",
     "text": [
      "Time difference of 1913 days\n",
      "[1] \"2013-04-03\"\n"
     ]
    }
   ],
   "source": [
    "#Now, let's divide the range in half and separate the dataset accordingly.\n",
    "\n",
    "diff <- as.Date(as.character(\"2018-06-29\"), format=\"%Y-%m-%d\")-\n",
    "              as.Date(as.character(\"2008-01-07\"), format=\"%Y-%m-%d\")\n",
    "print(diff/2)\n",
    "\n",
    "cut_off <- as.Date(as.character(\"2008-01-07\"), format=\"%Y-%m-%d\") + diff/2\n",
    "print(cut_off)"
   ]
  },
  {
   "cell_type": "code",
   "execution_count": 18,
   "metadata": {},
   "outputs": [],
   "source": [
    "circulated_earlier <- test_foo[which(new_foo$CirculationDate < \"2013-04-03\"),]\n",
    "circulated_later <- test_foo[which(new_foo$CirculationDate >= \"2013-04-03\"),]"
   ]
  },
  {
   "cell_type": "code",
   "execution_count": 19,
   "metadata": {},
   "outputs": [],
   "source": [
    "# I am adding a new column to each dataset which lists the project duration in units of days \n",
    "circulated_earlier$ProjectDuration <- circulated_earlier$OriginalCompletionDate-circulated_earlier$ApprovalDate\n",
    "\n",
    "circulated_later$ProjectDuration <- circulated_later$OriginalCompletionDate-circulated_later$ApprovalDate"
   ]
  },
  {
   "cell_type": "code",
   "execution_count": 20,
   "metadata": {},
   "outputs": [
    {
     "data": {
      "text/html": [
       "1.7648217952254"
      ],
      "text/latex": [
       "1.7648217952254"
      ],
      "text/markdown": [
       "1.7648217952254"
      ],
      "text/plain": [
       "[1] 1.764822"
      ]
     },
     "metadata": {},
     "output_type": "display_data"
    },
    {
     "data": {
      "text/html": [
       "<dl class=dl-horizontal>\n",
       "\t<dt>0%</dt>\n",
       "\t\t<dd>0.0493150684931507</dd>\n",
       "\t<dt>25%</dt>\n",
       "\t\t<dd>1.10684931506849</dd>\n",
       "\t<dt>50%</dt>\n",
       "\t\t<dd>1.62465753424658</dd>\n",
       "\t<dt>75%</dt>\n",
       "\t\t<dd>2.14383561643836</dd>\n",
       "\t<dt>100%</dt>\n",
       "\t\t<dd>9.23013698630137</dd>\n",
       "</dl>\n"
      ],
      "text/latex": [
       "\\begin{description*}\n",
       "\\item[0\\textbackslash{}\\%] 0.0493150684931507\n",
       "\\item[25\\textbackslash{}\\%] 1.10684931506849\n",
       "\\item[50\\textbackslash{}\\%] 1.62465753424658\n",
       "\\item[75\\textbackslash{}\\%] 2.14383561643836\n",
       "\\item[100\\textbackslash{}\\%] 9.23013698630137\n",
       "\\end{description*}\n"
      ],
      "text/markdown": [
       "0%\n",
       ":   0.049315068493150725%\n",
       ":   1.1068493150684950%\n",
       ":   1.6246575342465875%\n",
       ":   2.14383561643836100%\n",
       ":   9.23013698630137\n",
       "\n"
      ],
      "text/plain": [
       "        0%        25%        50%        75%       100% \n",
       "0.04931507 1.10684932 1.62465753 2.14383562 9.23013699 "
      ]
     },
     "metadata": {},
     "output_type": "display_data"
    }
   ],
   "source": [
    "#Average project duration and quantiles for projects circulated before 2013-04-03\n",
    "\n",
    "mean(as.numeric(circulated_earlier$ProjectDuration), na.rm = TRUE)/365\n",
    "quantile(as.numeric(circulated_earlier$ProjectDuration), na.rm = TRUE)/365"
   ]
  },
  {
   "cell_type": "code",
   "execution_count": 21,
   "metadata": {},
   "outputs": [
    {
     "data": {
      "text/html": [
       "1.64703196347032"
      ],
      "text/latex": [
       "1.64703196347032"
      ],
      "text/markdown": [
       "1.64703196347032"
      ],
      "text/plain": [
       "[1] 1.647032"
      ]
     },
     "metadata": {},
     "output_type": "display_data"
    },
    {
     "data": {
      "text/html": [
       "<dl class=dl-horizontal>\n",
       "\t<dt>0%</dt>\n",
       "\t\t<dd>0.945205479452055</dd>\n",
       "\t<dt>25%</dt>\n",
       "\t\t<dd>1.36506849315068</dd>\n",
       "\t<dt>50%</dt>\n",
       "\t\t<dd>1.67945205479452</dd>\n",
       "\t<dt>75%</dt>\n",
       "\t\t<dd>1.80890410958904</dd>\n",
       "\t<dt>100%</dt>\n",
       "\t\t<dd>2.46575342465753</dd>\n",
       "</dl>\n"
      ],
      "text/latex": [
       "\\begin{description*}\n",
       "\\item[0\\textbackslash{}\\%] 0.945205479452055\n",
       "\\item[25\\textbackslash{}\\%] 1.36506849315068\n",
       "\\item[50\\textbackslash{}\\%] 1.67945205479452\n",
       "\\item[75\\textbackslash{}\\%] 1.80890410958904\n",
       "\\item[100\\textbackslash{}\\%] 2.46575342465753\n",
       "\\end{description*}\n"
      ],
      "text/markdown": [
       "0%\n",
       ":   0.94520547945205525%\n",
       ":   1.3650684931506850%\n",
       ":   1.6794520547945275%\n",
       ":   1.80890410958904100%\n",
       ":   2.46575342465753\n",
       "\n"
      ],
      "text/plain": [
       "       0%       25%       50%       75%      100% \n",
       "0.9452055 1.3650685 1.6794521 1.8089041 2.4657534 "
      ]
     },
     "metadata": {},
     "output_type": "display_data"
    }
   ],
   "source": [
    "#Average project duration and quantiles for projects circulated after 2013-04-03\n",
    "\n",
    "mean(as.numeric(circulated_later$ProjectDuration), na.rm = TRUE)/365\n",
    "quantile(as.numeric(circulated_later$ProjectDuration), na.rm = TRUE)/365"
   ]
  },
  {
   "cell_type": "code",
   "execution_count": 261,
   "metadata": {},
   "outputs": [
    {
     "data": {
      "image/png": "[encoded data removed]",
      "text/plain": [
       "Plot with title \"Project Duration Distribution for Projects Circulated Before 2013-04-03\""
      ]
     },
     "metadata": {},
     "output_type": "display_data"
    },
    {
     "data": {
      "image/png": "[encoded data removed]",
      "text/plain": [
       "Plot with title \"Project Duration Distribution for Projects Circulated After 2013-04-03\""
      ]
     },
     "metadata": {},
     "output_type": "display_data"
    }
   ],
   "source": [
    "p1 <- hist(as.numeric(circulated_earlier$ProjectDuration)/365, main=\"Project Duration Distribution for Projects Circulated Before 2013-04-03\",xlab=\"Project Durations (months)\",col=\"gray\",label=TRUE,plot = TRUE)\n",
    "p2 <- hist(as.numeric(circulated_later$ProjectDuration)/365, main=\"Project Duration Distribution for Projects Circulated After 2013-04-03\",xlab=\"Project Durations (months)\",col=\"gray\",label=TRUE,plot = TRUE)\n"
   ]
  },
  {
   "cell_type": "markdown",
   "metadata": {},
   "source": [
    "Indeed, projects circulated before 2013-04-03 have a higher average project duration (1.76 years) at approval while projects circulated after 2013-04-03 have a lower average project duration (1.65 years). The 50th percentile for earlier projects is 1.62 years while for later projects is 1.68 which might suggest that project duration has actually increased. However, if we check the 100th percentile, we see that projects circulated earlier include ones which took nearly 9.23 years to complete whereas all projects circulated later were completed within 2.47 years. If we check the histograms for project duration distributions, we see that earlier projects are indeed skewed to the right. However, for a more definitive answer, we could conduct hypothesis testing of the difference between the two means. "
   ]
  },
  {
   "cell_type": "markdown",
   "metadata": {},
   "source": [
    "### b) How does original planned project duration differ from actual duration (if actual duration is measured as the duration between \"ApprovalDate\" and \"RevisedCompletionDate\"?)  "
   ]
  },
  {
   "cell_type": "code",
   "execution_count": 23,
   "metadata": {},
   "outputs": [],
   "source": [
    "# I am adding a new column to the dataset which lists the actual project duration in units of days \n",
    "test_foo$ActualProjectDuration <- test_foo$RevisedCompletionDate-test_foo$ApprovalDate"
   ]
  },
  {
   "cell_type": "code",
   "execution_count": 24,
   "metadata": {},
   "outputs": [
    {
     "data": {
      "text/html": [
       "<table>\n",
       "<thead><tr><th></th><th scope=col>Number</th><th scope=col>Status</th><th scope=col>Cluster</th><th scope=col>Prefix</th><th scope=col>Type</th><th scope=col>Country</th><th scope=col>Dept</th><th scope=col>Division</th><th scope=col>LTAA</th><th scope=col>Loan</th><th scope=col>...</th><th scope=col>RevisedCompletionDate</th><th scope=col>JSF</th><th scope=col>Fund</th><th scope=col>RevisedAmount</th><th scope=col>Rating</th><th scope=col>No</th><th scope=col>PCR</th><th scope=col>CirculationDate</th><th scope=col>ProjectDuration</th><th scope=col>ActualProjectDuration</th></tr></thead>\n",
       "<tbody>\n",
       "\t<tr><th scope=row>2529</th><td>2001                    </td><td>Financially Completed   </td><td>                        </td><td>                        </td><td>ADTA                    </td><td>IND                     </td><td>IWD                     </td><td>IWTC                    </td><td>Transport               </td><td>1274                    </td><td>...                     </td><td>1996-06-30              </td><td>NA                      </td><td>2                       </td><td>0.21                    </td><td>2                       </td><td>                        </td><td>13-08                   </td><td>2008-01-17              </td><td>  NA days               </td><td> 944 days               </td></tr>\n",
       "\t<tr><th scope=row>2530</th><td>2002                    </td><td>Financially Completed   </td><td>                        </td><td>                        </td><td>ADTA                    </td><td>IND                     </td><td>IWD                     </td><td>IWTC                    </td><td>Transport               </td><td>1274                    </td><td>...                     </td><td>1995-11-30              </td><td>NA                      </td><td>2                       </td><td>0.24                    </td><td>2                       </td><td>                        </td><td>13-08                   </td><td>2008-01-17              </td><td>  NA days               </td><td> 731 days               </td></tr>\n",
       "\t<tr><th scope=row>2531</th><td>2003                    </td><td>Financially Completed   </td><td>                        </td><td>                        </td><td>ADTA                    </td><td>IND                     </td><td>IWD                     </td><td>IWTC                    </td><td>Transport               </td><td>1274                    </td><td>...                     </td><td>1995-11-30              </td><td>NA                      </td><td>2                       </td><td>0.35                    </td><td>2                       </td><td>                        </td><td>13-08                   </td><td>2008-01-17              </td><td>  NA days               </td><td> 731 days               </td></tr>\n",
       "\t<tr><th scope=row>2754</th><td>5600                    </td><td>Financially Completed   </td><td>                        </td><td>R                       </td><td>RETA                    </td><td>REG                     </td><td>PPFD                    </td><td>COCS                    </td><td>Public sector management</td><td>   0                    </td><td>...                     </td><td>2003-12-31              </td><td>NA                      </td><td>2                       </td><td>0.12                    </td><td>2                       </td><td>20-10                   </td><td>                        </td><td>2010-01-15              </td><td>3369 days               </td><td>3369 days               </td></tr>\n",
       "\t<tr><th scope=row>2904</th><td>5624                    </td><td>Financially Completed   </td><td>                        </td><td>R                       </td><td>RETA                    </td><td>REG                     </td><td>PPFD                    </td><td>COPP                    </td><td>Public sector management</td><td>   0                    </td><td>...                     </td><td>1997-12-31              </td><td>NA                      </td><td>2                       </td><td>0.60                    </td><td>3                       </td><td>471-09                  </td><td>                        </td><td>2009-12-29              </td><td>  NA days               </td><td>1030 days               </td></tr>\n",
       "\t<tr><th scope=row>3059</th><td>2440                    </td><td>Financially Completed   </td><td>                        </td><td>                        </td><td>ADTA                    </td><td>MLD                     </td><td>SFSP-AUS                </td><td>SAOC**                  </td><td>Public sector management</td><td>   0                    </td><td>...                     </td><td>1998-06-30              </td><td>NA                      </td><td>2                       </td><td>0.40                    </td><td>2                       </td><td>309-09                  </td><td>                        </td><td>2009-10-30              </td><td>  NA days               </td><td> 964 days               </td></tr>\n",
       "</tbody>\n",
       "</table>\n"
      ],
      "text/latex": [
       "\\begin{tabular}{r|lllllllllllllllllllllllllll}\n",
       "  & Number & Status & Cluster & Prefix & Type & Country & Dept & Division & LTAA & Loan & ... & RevisedCompletionDate & JSF & Fund & RevisedAmount & Rating & No & PCR & CirculationDate & ProjectDuration & ActualProjectDuration\\\\\n",
       "\\hline\n",
       "\t2529 & 2001                     & Financially Completed    &                          &                          & ADTA                     & IND                      & IWD                      & IWTC                     & Transport                & 1274                     & ...                      & 1996-06-30               & NA                       & 2                        & 0.21                     & 2                        &                          & 13-08                    & 2008-01-17               &   NA days                &  944 days               \\\\\n",
       "\t2530 & 2002                     & Financially Completed    &                          &                          & ADTA                     & IND                      & IWD                      & IWTC                     & Transport                & 1274                     & ...                      & 1995-11-30               & NA                       & 2                        & 0.24                     & 2                        &                          & 13-08                    & 2008-01-17               &   NA days                &  731 days               \\\\\n",
       "\t2531 & 2003                     & Financially Completed    &                          &                          & ADTA                     & IND                      & IWD                      & IWTC                     & Transport                & 1274                     & ...                      & 1995-11-30               & NA                       & 2                        & 0.35                     & 2                        &                          & 13-08                    & 2008-01-17               &   NA days                &  731 days               \\\\\n",
       "\t2754 & 5600                     & Financially Completed    &                          & R                        & RETA                     & REG                      & PPFD                     & COCS                     & Public sector management &    0                     & ...                      & 2003-12-31               & NA                       & 2                        & 0.12                     & 2                        & 20-10                    &                          & 2010-01-15               & 3369 days                & 3369 days               \\\\\n",
       "\t2904 & 5624                     & Financially Completed    &                          & R                        & RETA                     & REG                      & PPFD                     & COPP                     & Public sector management &    0                     & ...                      & 1997-12-31               & NA                       & 2                        & 0.60                     & 3                        & 471-09                   &                          & 2009-12-29               &   NA days                & 1030 days               \\\\\n",
       "\t3059 & 2440                     & Financially Completed    &                          &                          & ADTA                     & MLD                      & SFSP-AUS                 & SAOC**                   & Public sector management &    0                     & ...                      & 1998-06-30               & NA                       & 2                        & 0.40                     & 2                        & 309-09                   &                          & 2009-10-30               &   NA days                &  964 days               \\\\\n",
       "\\end{tabular}\n"
      ],
      "text/markdown": [
       "\n",
       "| <!--/--> | Number | Status | Cluster | Prefix | Type | Country | Dept | Division | LTAA | Loan | ... | RevisedCompletionDate | JSF | Fund | RevisedAmount | Rating | No | PCR | CirculationDate | ProjectDuration | ActualProjectDuration | \n",
       "|---|---|---|---|---|---|\n",
       "| 2529 | 2001                     | Financially Completed    |                          |                          | ADTA                     | IND                      | IWD                      | IWTC                     | Transport                | 1274                     | ...                      | 1996-06-30               | NA                       | 2                        | 0.21                     | 2                        |                          | 13-08                    | 2008-01-17               |   NA days                |  944 days                | \n",
       "| 2530 | 2002                     | Financially Completed    |                          |                          | ADTA                     | IND                      | IWD                      | IWTC                     | Transport                | 1274                     | ...                      | 1995-11-30               | NA                       | 2                        | 0.24                     | 2                        |                          | 13-08                    | 2008-01-17               |   NA days                |  731 days                | \n",
       "| 2531 | 2003                     | Financially Completed    |                          |                          | ADTA                     | IND                      | IWD                      | IWTC                     | Transport                | 1274                     | ...                      | 1995-11-30               | NA                       | 2                        | 0.35                     | 2                        |                          | 13-08                    | 2008-01-17               |   NA days                |  731 days                | \n",
       "| 2754 | 5600                     | Financially Completed    |                          | R                        | RETA                     | REG                      | PPFD                     | COCS                     | Public sector management |    0                     | ...                      | 2003-12-31               | NA                       | 2                        | 0.12                     | 2                        | 20-10                    |                          | 2010-01-15               | 3369 days                | 3369 days                | \n",
       "| 2904 | 5624                     | Financially Completed    |                          | R                        | RETA                     | REG                      | PPFD                     | COPP                     | Public sector management |    0                     | ...                      | 1997-12-31               | NA                       | 2                        | 0.60                     | 3                        | 471-09                   |                          | 2009-12-29               |   NA days                | 1030 days                | \n",
       "| 3059 | 2440                     | Financially Completed    |                          |                          | ADTA                     | MLD                      | SFSP-AUS                 | SAOC**                   | Public sector management |    0                     | ...                      | 1998-06-30               | NA                       | 2                        | 0.40                     | 2                        | 309-09                   |                          | 2009-10-30               |   NA days                |  964 days                | \n",
       "\n",
       "\n"
      ],
      "text/plain": [
       "     Number Status                Cluster Prefix Type Country Dept     Division\n",
       "2529 2001   Financially Completed                ADTA IND     IWD      IWTC    \n",
       "2530 2002   Financially Completed                ADTA IND     IWD      IWTC    \n",
       "2531 2003   Financially Completed                ADTA IND     IWD      IWTC    \n",
       "2754 5600   Financially Completed         R      RETA REG     PPFD     COCS    \n",
       "2904 5624   Financially Completed         R      RETA REG     PPFD     COPP    \n",
       "3059 2440   Financially Completed                ADTA MLD     SFSP-AUS SAOC**  \n",
       "     LTAA                     Loan ... RevisedCompletionDate JSF Fund\n",
       "2529 Transport                1274 ... 1996-06-30            NA  2   \n",
       "2530 Transport                1274 ... 1995-11-30            NA  2   \n",
       "2531 Transport                1274 ... 1995-11-30            NA  2   \n",
       "2754 Public sector management    0 ... 2003-12-31            NA  2   \n",
       "2904 Public sector management    0 ... 1997-12-31            NA  2   \n",
       "3059 Public sector management    0 ... 1998-06-30            NA  2   \n",
       "     RevisedAmount Rating No     PCR   CirculationDate ProjectDuration\n",
       "2529 0.21          2             13-08 2008-01-17        NA days      \n",
       "2530 0.24          2             13-08 2008-01-17        NA days      \n",
       "2531 0.35          2             13-08 2008-01-17        NA days      \n",
       "2754 0.12          2      20-10        2010-01-15      3369 days      \n",
       "2904 0.60          3      471-09       2009-12-29        NA days      \n",
       "3059 0.40          2      309-09       2009-10-30        NA days      \n",
       "     ActualProjectDuration\n",
       "2529  944 days            \n",
       "2530  731 days            \n",
       "2531  731 days            \n",
       "2754 3369 days            \n",
       "2904 1030 days            \n",
       "3059  964 days            "
      ]
     },
     "metadata": {},
     "output_type": "display_data"
    }
   ],
   "source": [
    "head(test_foo)"
   ]
  },
  {
   "cell_type": "code",
   "execution_count": 25,
   "metadata": {},
   "outputs": [
    {
     "data": {
      "text/html": [
       "0"
      ],
      "text/latex": [
       "0"
      ],
      "text/markdown": [
       "0"
      ],
      "text/plain": [
       "[1] 0"
      ]
     },
     "metadata": {},
     "output_type": "display_data"
    },
    {
     "data": {
      "text/html": [
       "0"
      ],
      "text/latex": [
       "0"
      ],
      "text/markdown": [
       "0"
      ],
      "text/plain": [
       "[1] 0"
      ]
     },
     "metadata": {},
     "output_type": "display_data"
    }
   ],
   "source": [
    "#Upon inspecting the table, I realize that all projects have a revised completion date. \n",
    "sum(is.na(test_foo$RevisedCompletionDate))\n",
    "sum(is.na(test_foo$ApprovalDate))"
   ]
  },
  {
   "cell_type": "code",
   "execution_count": 26,
   "metadata": {},
   "outputs": [
    {
     "data": {
      "text/html": [
       "3.3317985590419"
      ],
      "text/latex": [
       "3.3317985590419"
      ],
      "text/markdown": [
       "3.3317985590419"
      ],
      "text/plain": [
       "[1] 3.331799"
      ]
     },
     "metadata": {},
     "output_type": "display_data"
    },
    {
     "data": {
      "text/html": [
       "<dl class=dl-horizontal>\n",
       "\t<dt>0%</dt>\n",
       "\t\t<dd>0.153424657534247</dd>\n",
       "\t<dt>25%</dt>\n",
       "\t\t<dd>2.3013698630137</dd>\n",
       "\t<dt>50%</dt>\n",
       "\t\t<dd>3.06575342465753</dd>\n",
       "\t<dt>75%</dt>\n",
       "\t\t<dd>4.04931506849315</dd>\n",
       "\t<dt>100%</dt>\n",
       "\t\t<dd>12.041095890411</dd>\n",
       "</dl>\n"
      ],
      "text/latex": [
       "\\begin{description*}\n",
       "\\item[0\\textbackslash{}\\%] 0.153424657534247\n",
       "\\item[25\\textbackslash{}\\%] 2.3013698630137\n",
       "\\item[50\\textbackslash{}\\%] 3.06575342465753\n",
       "\\item[75\\textbackslash{}\\%] 4.04931506849315\n",
       "\\item[100\\textbackslash{}\\%] 12.041095890411\n",
       "\\end{description*}\n"
      ],
      "text/markdown": [
       "0%\n",
       ":   0.15342465753424725%\n",
       ":   2.301369863013750%\n",
       ":   3.0657534246575375%\n",
       ":   4.04931506849315100%\n",
       ":   12.041095890411\n",
       "\n"
      ],
      "text/plain": [
       "        0%        25%        50%        75%       100% \n",
       " 0.1534247  2.3013699  3.0657534  4.0493151 12.0410959 "
      ]
     },
     "metadata": {},
     "output_type": "display_data"
    }
   ],
   "source": [
    "#Since there are no 'NA' values in the ActualProjectDuration column, I will set the na.rm logical to FALSE since R doesn't have to remove the missing values. \n",
    "#I will also divide the result by 365 to evaluate the average actual project duration in years.\n",
    "mean(as.numeric(test_foo$ActualProjectDuration), na.rm = TRUE)/365\n",
    "quantile(as.numeric(test_foo$ActualProjectDuration), na.rm = TRUE)/365"
   ]
  },
  {
   "cell_type": "code",
   "execution_count": 262,
   "metadata": {},
   "outputs": [
    {
     "data": {
      "image/png": "[encoded data removed]",
      "text/plain": [
       "Plot with title \"Actual Project Duration Distribution\""
      ]
     },
     "metadata": {},
     "output_type": "display_data"
    }
   ],
   "source": [
    "hist(as.numeric(test_foo$ActualProjectDuration)/365, main=\"Actual Project Duration Distribution\",xlab=\"Actual Project Durations (months)\",col=\"gray\",label=TRUE,plot = TRUE)\n"
   ]
  },
  {
   "cell_type": "code",
   "execution_count": 28,
   "metadata": {},
   "outputs": [
    {
     "data": {
      "text/html": [
       "1.5715595990428"
      ],
      "text/latex": [
       "1.5715595990428"
      ],
      "text/markdown": [
       "1.5715595990428"
      ],
      "text/plain": [
       "[1] 1.57156"
      ]
     },
     "metadata": {},
     "output_type": "display_data"
    },
    {
     "data": {
      "text/html": [
       "<dl class=dl-horizontal>\n",
       "\t<dt>0%</dt>\n",
       "\t\t<dd>0.104109589041096</dd>\n",
       "\t<dt>25%</dt>\n",
       "\t\t<dd>1.20821917808219</dd>\n",
       "\t<dt>50%</dt>\n",
       "\t\t<dd>1.44383561643836</dd>\n",
       "\t<dt>75%</dt>\n",
       "\t\t<dd>1.9041095890411</dd>\n",
       "\t<dt>100%</dt>\n",
       "\t\t<dd>2.81095890410959</dd>\n",
       "</dl>\n"
      ],
      "text/latex": [
       "\\begin{description*}\n",
       "\\item[0\\textbackslash{}\\%] 0.104109589041096\n",
       "\\item[25\\textbackslash{}\\%] 1.20821917808219\n",
       "\\item[50\\textbackslash{}\\%] 1.44383561643836\n",
       "\\item[75\\textbackslash{}\\%] 1.9041095890411\n",
       "\\item[100\\textbackslash{}\\%] 2.81095890410959\n",
       "\\end{description*}\n"
      ],
      "text/markdown": [
       "0%\n",
       ":   0.10410958904109625%\n",
       ":   1.2082191780821950%\n",
       ":   1.4438356164383675%\n",
       ":   1.9041095890411100%\n",
       ":   2.81095890410959\n",
       "\n"
      ],
      "text/plain": [
       "       0%       25%       50%       75%      100% \n",
       "0.1041096 1.2082192 1.4438356 1.9041096 2.8109589 "
      ]
     },
     "metadata": {},
     "output_type": "display_data"
    }
   ],
   "source": [
    "#Now, we will calculate the average difference in means between actual project duration and original planned project duration. \n",
    "#We will also evaluate difference in quantiles. \n",
    "mean(as.numeric(test_foo$ActualProjectDuration - test_foo$ProjectDuration), na.rm = TRUE)/365\n",
    "quantile(as.numeric(test_foo$ActualProjectDuration), na.rm = TRUE)/365 - quantile(as.numeric(test_foo$ProjectDuration), na.rm = TRUE)/365"
   ]
  },
  {
   "cell_type": "markdown",
   "metadata": {},
   "source": [
    "### b) How does original planned project duration differ from actual duration (if actual duration is measured as the duration between \"ApprovalDate\" and \"RevisedCompletionDate\"?)  \n",
    "\n",
    "Actual duration appears to be greater on average by 1.57 years compared to the original planned project duration. The  difference persists for all the quantiles computed earlier, with actual duration being 1.44 years longer than original planned duration for the 50th percentiles. "
   ]
  },
  {
   "cell_type": "markdown",
   "metadata": {},
   "source": [
    "### 2) What % of projects that have ratings were rated 0? What % were rated 1? What % were rated 2? What % were rated 3? Answer these questions using a table or a figure. Provide a title AND an explanatory sentence or two that provides the numerical % results rounded to the nearest percentage-point.\n"
   ]
  },
  {
   "cell_type": "code",
   "execution_count": 29,
   "metadata": {},
   "outputs": [
    {
     "data": {
      "text/html": [
       "0"
      ],
      "text/latex": [
       "0"
      ],
      "text/markdown": [
       "0"
      ],
      "text/plain": [
       "[1] 0"
      ]
     },
     "metadata": {},
     "output_type": "display_data"
    },
    {
     "data": {
      "text/html": [
       "<ol class=list-inline>\n",
       "\t<li>0</li>\n",
       "\t<li>3</li>\n",
       "</ol>\n"
      ],
      "text/latex": [
       "\\begin{enumerate*}\n",
       "\\item 0\n",
       "\\item 3\n",
       "\\end{enumerate*}\n"
      ],
      "text/markdown": [
       "1. 0\n",
       "2. 3\n",
       "\n",
       "\n"
      ],
      "text/plain": [
       "[1] 0 3"
      ]
     },
     "metadata": {},
     "output_type": "display_data"
    }
   ],
   "source": [
    "#First, we will check if any of the projects are missing a rating. \n",
    "sum(is.na(test_foo$Rating))\n",
    "range(test_foo$Rating) #Ratings range from 0 to 3."
   ]
  },
  {
   "cell_type": "code",
   "execution_count": 30,
   "metadata": {},
   "outputs": [],
   "source": [
    "zero_rating_index <- which(test_foo$Rating == \"0\")\n",
    "zero_rating <- length(zero_rating_index) * 100/ dim(test_foo)[1]"
   ]
  },
  {
   "cell_type": "code",
   "execution_count": 31,
   "metadata": {},
   "outputs": [],
   "source": [
    "one_rating_index <- which(test_foo$Rating == \"1\")\n",
    "one_rating <- length(one_rating_index)* 100 / dim(test_foo)[1]"
   ]
  },
  {
   "cell_type": "code",
   "execution_count": 32,
   "metadata": {},
   "outputs": [],
   "source": [
    "two_rating_index <- which(test_foo$Rating == \"2\")\n",
    "two_rating <- length(two_rating_index)* 100 / dim(test_foo)[1]"
   ]
  },
  {
   "cell_type": "code",
   "execution_count": 33,
   "metadata": {},
   "outputs": [],
   "source": [
    "three_rating_index <- which(test_foo$Rating == \"3\")\n",
    "three_rating <- length(three_rating_index)* 100 / dim(test_foo)[1]"
   ]
  },
  {
   "cell_type": "code",
   "execution_count": 38,
   "metadata": {},
   "outputs": [],
   "source": [
    "percentageA <- round(c(zero_rating, one_rating, two_rating, three_rating), 1)\n",
    "Rate <- c(\"0\",\"1\",\"2\",\"3\")"
   ]
  },
  {
   "cell_type": "code",
   "execution_count": 125,
   "metadata": {},
   "outputs": [
    {
     "data": {
      "text/html": [
       "<table>\n",
       "<thead><tr><th scope=col>Ratings</th><th scope=col>% of Projects</th></tr></thead>\n",
       "<tbody>\n",
       "\t<tr><td>0   </td><td> 2.7</td></tr>\n",
       "\t<tr><td>1   </td><td>15.9</td></tr>\n",
       "\t<tr><td>2   </td><td>68.3</td></tr>\n",
       "\t<tr><td>3   </td><td>13.2</td></tr>\n",
       "</tbody>\n",
       "</table>\n"
      ],
      "text/latex": [
       "\\begin{tabular}{r|ll}\n",
       " Ratings & \\% of Projects\\\\\n",
       "\\hline\n",
       "\t 0    &  2.7\\\\\n",
       "\t 1    & 15.9\\\\\n",
       "\t 2    & 68.3\\\\\n",
       "\t 3    & 13.2\\\\\n",
       "\\end{tabular}\n"
      ],
      "text/markdown": [
       "\n",
       "Ratings | % of Projects | \n",
       "|---|---|---|---|\n",
       "| 0    |  2.7 | \n",
       "| 1    | 15.9 | \n",
       "| 2    | 68.3 | \n",
       "| 3    | 13.2 | \n",
       "\n",
       "\n"
      ],
      "text/plain": [
       "  Ratings % of Projects\n",
       "1 0        2.7         \n",
       "2 1       15.9         \n",
       "3 2       68.3         \n",
       "4 3       13.2         "
      ]
     },
     "metadata": {},
     "output_type": "display_data"
    }
   ],
   "source": [
    "df <- data.frame(Rate, Percentage = percentageA)\n",
    "names(df) <- c('Ratings', \"% of Projects\")\n",
    "df"
   ]
  },
  {
   "cell_type": "markdown",
   "metadata": {},
   "source": [
    "According to the figure above, 2.7% of projects were rated 0, 15.9% of projects were rated 1, 68.3% of projects were rated 2 and the remaining 13.2% of projects were rated 3. "
   ]
  },
  {
   "cell_type": "markdown",
   "metadata": {},
   "source": [
    "### 3) Repeat problem 2, but this time exclude all PPTA projects. PPTA projects are more prone to negative ratings, because after a certain point in time only the low-rated PPTA projects required ratings.  PPTA stands for \"Project Preparatory Technical Assistance\" and it is basically a project intended to set up a loan (often a very large multi-million-dollar loan). Only PPTAs that fail to \"eventuate\" to a loan are rated, which is why they are usually rated negatively."
   ]
  },
  {
   "cell_type": "code",
   "execution_count": 48,
   "metadata": {},
   "outputs": [],
   "source": [
    "#First, we will use the which function to find the indices of the PPTA projects. \n",
    "which.are.PPTAs <- which(test_foo$Type == \"PPTA\")\n",
    "\n",
    "# Then,  we  will retain only the rows which exclude PPTA projects. \n",
    "new_test_foo <- test_foo[-which.are.PPTAs, ]"
   ]
  },
  {
   "cell_type": "code",
   "execution_count": 49,
   "metadata": {},
   "outputs": [],
   "source": [
    "zero_rating_index <- which(new_test_foo$Rating == \"0\")\n",
    "zero_rating <- length(zero_rating_index) * 100/ dim(new_test_foo)[1]"
   ]
  },
  {
   "cell_type": "code",
   "execution_count": 50,
   "metadata": {},
   "outputs": [],
   "source": [
    "one_rating_index <- which(new_test_foo$Rating == \"1\")\n",
    "one_rating <- length(one_rating_index)* 100 / dim(test_foo)[1]"
   ]
  },
  {
   "cell_type": "code",
   "execution_count": 51,
   "metadata": {},
   "outputs": [],
   "source": [
    "two_rating_index <- which(new_test_foo$Rating == \"2\")\n",
    "two_rating <- length(two_rating_index)* 100 / dim(test_foo)[1]"
   ]
  },
  {
   "cell_type": "code",
   "execution_count": 52,
   "metadata": {},
   "outputs": [],
   "source": [
    "three_rating_index <- which(new_test_foo$Rating == \"3\")\n",
    "three_rating <- length(three_rating_index)* 100 / dim(test_foo)[1]"
   ]
  },
  {
   "cell_type": "code",
   "execution_count": 53,
   "metadata": {},
   "outputs": [],
   "source": [
    "percentageB <- round(c(zero_rating, one_rating, two_rating, three_rating), 1)\n",
    "Rate <- c(\"0\",\"1\",\"2\",\"3\")"
   ]
  },
  {
   "cell_type": "code",
   "execution_count": 126,
   "metadata": {},
   "outputs": [
    {
     "data": {
      "text/html": [
       "<table>\n",
       "<thead><tr><th scope=col>Ratings</th><th scope=col>% of Projects excluding PPTAs</th><th scope=col>Difference (Including PPTAs - Excluding PPTAs)</th></tr></thead>\n",
       "<tbody>\n",
       "\t<tr><td>0   </td><td> 2.0</td><td>0.7 </td></tr>\n",
       "\t<tr><td>1   </td><td>13.2</td><td>2.7 </td></tr>\n",
       "\t<tr><td>2   </td><td>66.0</td><td>2.3 </td></tr>\n",
       "\t<tr><td>3   </td><td>12.9</td><td>0.3 </td></tr>\n",
       "</tbody>\n",
       "</table>\n"
      ],
      "text/latex": [
       "\\begin{tabular}{r|lll}\n",
       " Ratings & \\% of Projects excluding PPTAs & Difference (Including PPTAs - Excluding PPTAs)\\\\\n",
       "\\hline\n",
       "\t 0    &  2.0 & 0.7 \\\\\n",
       "\t 1    & 13.2 & 2.7 \\\\\n",
       "\t 2    & 66.0 & 2.3 \\\\\n",
       "\t 3    & 12.9 & 0.3 \\\\\n",
       "\\end{tabular}\n"
      ],
      "text/markdown": [
       "\n",
       "Ratings | % of Projects excluding PPTAs | Difference (Including PPTAs - Excluding PPTAs) | \n",
       "|---|---|---|---|\n",
       "| 0    |  2.0 | 0.7  | \n",
       "| 1    | 13.2 | 2.7  | \n",
       "| 2    | 66.0 | 2.3  | \n",
       "| 3    | 12.9 | 0.3  | \n",
       "\n",
       "\n"
      ],
      "text/plain": [
       "  Ratings % of Projects excluding PPTAs\n",
       "1 0        2.0                         \n",
       "2 1       13.2                         \n",
       "3 2       66.0                         \n",
       "4 3       12.9                         \n",
       "  Difference (Including PPTAs - Excluding PPTAs)\n",
       "1 0.7                                           \n",
       "2 2.7                                           \n",
       "3 2.3                                           \n",
       "4 0.3                                           "
      ]
     },
     "metadata": {},
     "output_type": "display_data"
    }
   ],
   "source": [
    "df1 <- data.frame(Rate, Percentage = percentageB, Difference = percentageA-percentageB)\n",
    "names(df1) <- c('Ratings', '% of Projects excluding PPTAs',\"Difference (Including PPTAs - Excluding PPTAs)\")\n",
    "df1"
   ]
  },
  {
   "cell_type": "markdown",
   "metadata": {},
   "source": [
    "According to the figure above, 2.0% of projects were rated 0, 13.2% of projects were rated 1, 66.0% of projects were rated 2 and the remaining 12.9% of projects were rated 3. I've also plotted an extra column showing the difference between percentages for ratings which include PPTAs subtracted from percentages excluding PPTAs. The difference is greatest for 2nd rated projects, with a difference of 2.7%."
   ]
  },
  {
   "cell_type": "markdown",
   "metadata": {},
   "source": [
    "### 4) Identify the top 25% of projects by \"Revised.Amount\" and the bottom 25% of projects by \"RevisedAmount\". (\"RevisedAmount\" shows the final project budget.) Compare the ratings of these projects. "
   ]
  },
  {
   "cell_type": "code",
   "execution_count": 240,
   "metadata": {},
   "outputs": [],
   "source": [
    "top_revised_foo <- test_foo[test_foo$RevisedAmount > quantile(test_foo$RevisedAmount,prob=1-25/100),]\n",
    "bottom_revised_foo <- test_foo[test_foo$RevisedAmount < quantile(test_foo$RevisedAmount,prob=25/100),]"
   ]
  },
  {
   "cell_type": "code",
   "execution_count": 241,
   "metadata": {},
   "outputs": [
    {
     "data": {
      "text/html": [
       "<ol class=list-inline>\n",
       "\t<li>405</li>\n",
       "\t<li>27</li>\n",
       "</ol>\n"
      ],
      "text/latex": [
       "\\begin{enumerate*}\n",
       "\\item 405\n",
       "\\item 27\n",
       "\\end{enumerate*}\n"
      ],
      "text/markdown": [
       "1. 405\n",
       "2. 27\n",
       "\n",
       "\n"
      ],
      "text/plain": [
       "[1] 405  27"
      ]
     },
     "metadata": {},
     "output_type": "display_data"
    },
    {
     "data": {
      "text/html": [
       "<ol class=list-inline>\n",
       "\t<li>421</li>\n",
       "\t<li>27</li>\n",
       "</ol>\n"
      ],
      "text/latex": [
       "\\begin{enumerate*}\n",
       "\\item 421\n",
       "\\item 27\n",
       "\\end{enumerate*}\n"
      ],
      "text/markdown": [
       "1. 421\n",
       "2. 27\n",
       "\n",
       "\n"
      ],
      "text/plain": [
       "[1] 421  27"
      ]
     },
     "metadata": {},
     "output_type": "display_data"
    }
   ],
   "source": [
    "dim(top_revised_foo)\n",
    "dim(bottom_revised_foo)"
   ]
  },
  {
   "cell_type": "code",
   "execution_count": 242,
   "metadata": {},
   "outputs": [],
   "source": [
    "top_zero_index <- which(top_revised_foo$Rating == \"0\")\n",
    "zero_rating_top <- length(top_zero_index) * 100/ dim(top_revised_foo)[1]\n",
    "\n",
    "bottom_zero_index <- which(bottom_revised_foo$Rating == \"0\")\n",
    "zero_rating_bottom <- length(zero_rating_index) * 100/ dim(bottom_revised_foo)[1]"
   ]
  },
  {
   "cell_type": "code",
   "execution_count": 243,
   "metadata": {},
   "outputs": [],
   "source": [
    "top_one_index <- which(top_revised_foo$Rating == \"1\")\n",
    "one_rating_top <- length(top_one_index)* 100 / dim(top_revised_foo)[1]\n",
    "\n",
    "bottom_one_index <- which(bottom_revised_foo$Rating == \"1\")\n",
    "one_rating_bottom <- length(bottom_one_index)* 100 / dim(bottom_revised_foo)[1]"
   ]
  },
  {
   "cell_type": "code",
   "execution_count": 244,
   "metadata": {},
   "outputs": [],
   "source": [
    "top_two_index <- which(top_revised_foo$Rating == \"2\")\n",
    "two_rating_top <- length(top_two_index)* 100 / dim(top_revised_foo)[1]\n",
    "\n",
    "bottom_two_index <- which(bottom_revised_foo$Rating == \"2\")\n",
    "two_rating_bottom <- length(bottom_two_index)* 100 / dim(bottom_revised_foo)[1]"
   ]
  },
  {
   "cell_type": "code",
   "execution_count": 245,
   "metadata": {},
   "outputs": [],
   "source": [
    "top_three_index <- which(top_revised_foo$Rating == \"3\")\n",
    "three_rating_top <- length(top_three_index)* 100 / dim(top_revised_foo)[1]\n",
    "\n",
    "bottom_three_index <- which(bottom_revised_foo$Rating == \"3\")\n",
    "three_rating_bottom <- length(bottom_three_index)* 100 / dim(bottom_revised_foo)[1]"
   ]
  },
  {
   "cell_type": "code",
   "execution_count": 246,
   "metadata": {},
   "outputs": [],
   "source": [
    "top_percentage <- round(c(zero_rating_top, one_rating_top, two_rating_top, three_rating_top), 1)\n",
    "bottom_percentage <- round(c(zero_rating_bottom, one_rating_bottom, two_rating_bottom, three_rating_bottom), 1)\n",
    "\n",
    "Rate <- c(\"0\",\"1\",\"2\",\"3\")"
   ]
  },
  {
   "cell_type": "code",
   "execution_count": 247,
   "metadata": {},
   "outputs": [
    {
     "data": {
      "text/html": [
       "<table>\n",
       "<thead><tr><th scope=col>Ratings</th><th scope=col>Top 25%</th><th scope=col>Bottom 25%</th><th scope=col>Difference (Top 25% - Bottom 25%)</th></tr></thead>\n",
       "<tbody>\n",
       "\t<tr><td>0   </td><td> 3.0</td><td> 8.3</td><td>-5.3</td></tr>\n",
       "\t<tr><td>1   </td><td>13.1</td><td>15.0</td><td>-1.9</td></tr>\n",
       "\t<tr><td>2   </td><td>70.1</td><td>69.1</td><td> 1.0</td></tr>\n",
       "\t<tr><td>3   </td><td>13.8</td><td>13.8</td><td> 0.0</td></tr>\n",
       "</tbody>\n",
       "</table>\n"
      ],
      "text/latex": [
       "\\begin{tabular}{r|llll}\n",
       " Ratings & Top 25\\% & Bottom 25\\% & Difference (Top 25\\% - Bottom 25\\%)\\\\\n",
       "\\hline\n",
       "\t 0    &  3.0 &  8.3 & -5.3\\\\\n",
       "\t 1    & 13.1 & 15.0 & -1.9\\\\\n",
       "\t 2    & 70.1 & 69.1 &  1.0\\\\\n",
       "\t 3    & 13.8 & 13.8 &  0.0\\\\\n",
       "\\end{tabular}\n"
      ],
      "text/markdown": [
       "\n",
       "Ratings | Top 25% | Bottom 25% | Difference (Top 25% - Bottom 25%) | \n",
       "|---|---|---|---|\n",
       "| 0    |  3.0 |  8.3 | -5.3 | \n",
       "| 1    | 13.1 | 15.0 | -1.9 | \n",
       "| 2    | 70.1 | 69.1 |  1.0 | \n",
       "| 3    | 13.8 | 13.8 |  0.0 | \n",
       "\n",
       "\n"
      ],
      "text/plain": [
       "  Ratings Top 25% Bottom 25% Difference (Top 25% - Bottom 25%)\n",
       "1 0        3.0     8.3       -5.3                             \n",
       "2 1       13.1    15.0       -1.9                             \n",
       "3 2       70.1    69.1        1.0                             \n",
       "4 3       13.8    13.8        0.0                             "
      ]
     },
     "metadata": {},
     "output_type": "display_data"
    }
   ],
   "source": [
    "df2 <- data.frame(Rate, top_percentage, bottom_percentage, top_percentage - bottom_percentage )\n",
    "names(df2) <- c('Ratings', 'Top 25%','Bottom 25%', \"Difference (Top 25% - Bottom 25%)\")\n",
    "df2"
   ]
  },
  {
   "cell_type": "markdown",
   "metadata": {},
   "source": [
    "In the figure above, I've plotted the % ranked for the top 25% of projects by Revised Amount and the bottom 25%. I've also included an extra column with the difference between the two project groupings. The greatest difference is in rank 0 projects, with the percentage of 1st rated projects in the top 25% being less by 5.3% compared to the bottom 25%. For first rate projects, the top 25% have -1.9% less than the bottom 25%. Finally, the percentage of 2nd rate projects are greater by 1.0% amongst the top 25% while the percentage of 3rd rate projects are the same. "
   ]
  },
  {
   "cell_type": "markdown",
   "metadata": {},
   "source": [
    "### Can you draw a causal conclusion about the effect of budget size on ratings? Why or why not? \n",
    "\n",
    "Hint: Compare the characteristics of the two project groupings, e.g., \"Dept\", \"Division\", \"Cluster\", \"Country\""
   ]
  },
  {
   "cell_type": "code",
   "execution_count": 249,
   "metadata": {},
   "outputs": [
    {
     "data": {
      "text/html": [
       "<table>\n",
       "<thead><tr><th></th><th scope=col>County (top 25%)</th><th scope=col>Percentage Count</th></tr></thead>\n",
       "<tbody>\n",
       "\t<tr><th scope=row>12</th><td>SERD </td><td>29.14</td></tr>\n",
       "\t<tr><th scope=row>11</th><td>SDCC </td><td>18.52</td></tr>\n",
       "\t<tr><th scope=row>1</th><td>CWRD </td><td>13.09</td></tr>\n",
       "\t<tr><th scope=row>10</th><td>SARD </td><td>12.84</td></tr>\n",
       "\t<tr><th scope=row>7</th><td>PARD </td><td> 7.16</td></tr>\n",
       "\t<tr><th scope=row>2</th><td>EARD </td><td> 6.67</td></tr>\n",
       "\t<tr><th scope=row>3</th><td>ERCD </td><td> 3.95</td></tr>\n",
       "\t<tr><th scope=row>4</th><td>IED  </td><td> 1.98</td></tr>\n",
       "\t<tr><th scope=row>6</th><td>OREI </td><td> 1.98</td></tr>\n",
       "\t<tr><th scope=row>5</th><td>OGC  </td><td> 1.23</td></tr>\n",
       "\t<tr><th scope=row>9</th><td>PSOD </td><td> 1.23</td></tr>\n",
       "\t<tr><th scope=row>8</th><td>PPFD </td><td> 0.99</td></tr>\n",
       "\t<tr><th scope=row>13</th><td>SPD  </td><td> 0.74</td></tr>\n",
       "\t<tr><th scope=row>14</th><td>TD   </td><td> 0.49</td></tr>\n",
       "</tbody>\n",
       "</table>\n"
      ],
      "text/latex": [
       "\\begin{tabular}{r|ll}\n",
       "  & County (top 25\\%) & Percentage Count\\\\\n",
       "\\hline\n",
       "\t12 & SERD  & 29.14\\\\\n",
       "\t11 & SDCC  & 18.52\\\\\n",
       "\t1 & CWRD  & 13.09\\\\\n",
       "\t10 & SARD  & 12.84\\\\\n",
       "\t7 & PARD  &  7.16\\\\\n",
       "\t2 & EARD  &  6.67\\\\\n",
       "\t3 & ERCD  &  3.95\\\\\n",
       "\t4 & IED   &  1.98\\\\\n",
       "\t6 & OREI  &  1.98\\\\\n",
       "\t5 & OGC   &  1.23\\\\\n",
       "\t9 & PSOD  &  1.23\\\\\n",
       "\t8 & PPFD  &  0.99\\\\\n",
       "\t13 & SPD   &  0.74\\\\\n",
       "\t14 & TD    &  0.49\\\\\n",
       "\\end{tabular}\n"
      ],
      "text/markdown": [
       "\n",
       "| <!--/--> | County (top 25%) | Percentage Count | \n",
       "|---|---|---|---|---|---|---|---|---|---|---|---|---|---|\n",
       "| 12 | SERD  | 29.14 | \n",
       "| 11 | SDCC  | 18.52 | \n",
       "| 1 | CWRD  | 13.09 | \n",
       "| 10 | SARD  | 12.84 | \n",
       "| 7 | PARD  |  7.16 | \n",
       "| 2 | EARD  |  6.67 | \n",
       "| 3 | ERCD  |  3.95 | \n",
       "| 4 | IED   |  1.98 | \n",
       "| 6 | OREI  |  1.98 | \n",
       "| 5 | OGC   |  1.23 | \n",
       "| 9 | PSOD  |  1.23 | \n",
       "| 8 | PPFD  |  0.99 | \n",
       "| 13 | SPD   |  0.74 | \n",
       "| 14 | TD    |  0.49 | \n",
       "\n",
       "\n"
      ],
      "text/plain": [
       "   County (top 25%) Percentage Count\n",
       "12 SERD             29.14           \n",
       "11 SDCC             18.52           \n",
       "1  CWRD             13.09           \n",
       "10 SARD             12.84           \n",
       "7  PARD              7.16           \n",
       "2  EARD              6.67           \n",
       "3  ERCD              3.95           \n",
       "4  IED               1.98           \n",
       "6  OREI              1.98           \n",
       "5  OGC               1.23           \n",
       "9  PSOD              1.23           \n",
       "8  PPFD              0.99           \n",
       "13 SPD               0.74           \n",
       "14 TD                0.49           "
      ]
     },
     "metadata": {},
     "output_type": "display_data"
    },
    {
     "data": {
      "text/html": [
       "<table>\n",
       "<thead><tr><th></th><th scope=col>County (bottom 25%)</th><th scope=col>Percentage Count</th></tr></thead>\n",
       "<tbody>\n",
       "\t<tr><th scope=row>18</th><td>SERD  </td><td>19.71 </td></tr>\n",
       "\t<tr><th scope=row>16</th><td>SARD  </td><td>19.48 </td></tr>\n",
       "\t<tr><th scope=row>13</th><td>PARD  </td><td>10.45 </td></tr>\n",
       "\t<tr><th scope=row>17</th><td>SDCC  </td><td>10.21 </td></tr>\n",
       "\t<tr><th scope=row>2</th><td>CWRD  </td><td> 9.50 </td></tr>\n",
       "\t<tr><th scope=row>3</th><td>EARD  </td><td> 8.55 </td></tr>\n",
       "\t<tr><th scope=row>5</th><td>ERCD  </td><td> 6.41 </td></tr>\n",
       "\t<tr><th scope=row>12</th><td>OREI  </td><td> 3.56 </td></tr>\n",
       "\t<tr><th scope=row>15</th><td>PSOD  </td><td> 3.56 </td></tr>\n",
       "\t<tr><th scope=row>1</th><td>CTL   </td><td> 1.43 </td></tr>\n",
       "\t<tr><th scope=row>11</th><td>OGC   </td><td> 1.43 </td></tr>\n",
       "\t<tr><th scope=row>19</th><td>SPD   </td><td> 1.43 </td></tr>\n",
       "\t<tr><th scope=row>14</th><td>PPFD  </td><td> 0.95 </td></tr>\n",
       "\t<tr><th scope=row>4</th><td>ECRD**</td><td> 0.71 </td></tr>\n",
       "\t<tr><th scope=row>6</th><td>IWD   </td><td> 0.71 </td></tr>\n",
       "\t<tr><th scope=row>8</th><td>OAI   </td><td> 0.48 </td></tr>\n",
       "\t<tr><th scope=row>10</th><td>OCRP  </td><td> 0.48 </td></tr>\n",
       "\t<tr><th scope=row>20</th><td>TD    </td><td> 0.48 </td></tr>\n",
       "\t<tr><th scope=row>7</th><td>OAG   </td><td> 0.24 </td></tr>\n",
       "\t<tr><th scope=row>9</th><td>OCO   </td><td> 0.24 </td></tr>\n",
       "</tbody>\n",
       "</table>\n"
      ],
      "text/latex": [
       "\\begin{tabular}{r|ll}\n",
       "  & County (bottom 25\\%) & Percentage Count\\\\\n",
       "\\hline\n",
       "\t18 & SERD   & 19.71 \\\\\n",
       "\t16 & SARD   & 19.48 \\\\\n",
       "\t13 & PARD   & 10.45 \\\\\n",
       "\t17 & SDCC   & 10.21 \\\\\n",
       "\t2 & CWRD   &  9.50 \\\\\n",
       "\t3 & EARD   &  8.55 \\\\\n",
       "\t5 & ERCD   &  6.41 \\\\\n",
       "\t12 & OREI   &  3.56 \\\\\n",
       "\t15 & PSOD   &  3.56 \\\\\n",
       "\t1 & CTL    &  1.43 \\\\\n",
       "\t11 & OGC    &  1.43 \\\\\n",
       "\t19 & SPD    &  1.43 \\\\\n",
       "\t14 & PPFD   &  0.95 \\\\\n",
       "\t4 & ECRD** &  0.71 \\\\\n",
       "\t6 & IWD    &  0.71 \\\\\n",
       "\t8 & OAI    &  0.48 \\\\\n",
       "\t10 & OCRP   &  0.48 \\\\\n",
       "\t20 & TD     &  0.48 \\\\\n",
       "\t7 & OAG    &  0.24 \\\\\n",
       "\t9 & OCO    &  0.24 \\\\\n",
       "\\end{tabular}\n"
      ],
      "text/markdown": [
       "\n",
       "| <!--/--> | County (bottom 25%) | Percentage Count | \n",
       "|---|---|---|---|---|---|---|---|---|---|---|---|---|---|---|---|---|---|---|---|\n",
       "| 18 | SERD   | 19.71  | \n",
       "| 16 | SARD   | 19.48  | \n",
       "| 13 | PARD   | 10.45  | \n",
       "| 17 | SDCC   | 10.21  | \n",
       "| 2 | CWRD   |  9.50  | \n",
       "| 3 | EARD   |  8.55  | \n",
       "| 5 | ERCD   |  6.41  | \n",
       "| 12 | OREI   |  3.56  | \n",
       "| 15 | PSOD   |  3.56  | \n",
       "| 1 | CTL    |  1.43  | \n",
       "| 11 | OGC    |  1.43  | \n",
       "| 19 | SPD    |  1.43  | \n",
       "| 14 | PPFD   |  0.95  | \n",
       "| 4 | ECRD** |  0.71  | \n",
       "| 6 | IWD    |  0.71  | \n",
       "| 8 | OAI    |  0.48  | \n",
       "| 10 | OCRP   |  0.48  | \n",
       "| 20 | TD     |  0.48  | \n",
       "| 7 | OAG    |  0.24  | \n",
       "| 9 | OCO    |  0.24  | \n",
       "\n",
       "\n"
      ],
      "text/plain": [
       "   County (bottom 25%) Percentage Count\n",
       "18 SERD                19.71           \n",
       "16 SARD                19.48           \n",
       "13 PARD                10.45           \n",
       "17 SDCC                10.21           \n",
       "2  CWRD                 9.50           \n",
       "3  EARD                 8.55           \n",
       "5  ERCD                 6.41           \n",
       "12 OREI                 3.56           \n",
       "15 PSOD                 3.56           \n",
       "1  CTL                  1.43           \n",
       "11 OGC                  1.43           \n",
       "19 SPD                  1.43           \n",
       "14 PPFD                 0.95           \n",
       "4  ECRD**               0.71           \n",
       "6  IWD                  0.71           \n",
       "8  OAI                  0.48           \n",
       "10 OCRP                 0.48           \n",
       "20 TD                   0.48           \n",
       "7  OAG                  0.24           \n",
       "9  OCO                  0.24           "
      ]
     },
     "metadata": {},
     "output_type": "display_data"
    }
   ],
   "source": [
    "#Counts unique values of county\n",
    "\n",
    "county_A <- aggregate(data.frame(count = top_revised_foo$Dept), list(value = top_revised_foo$Dept), length)\n",
    "county_A[2] <- round(county_A[2] * 100/ dim(top_revised_foo)[1],2)\n",
    "county_A <- county_A[order(-county_A$count),]\n",
    "names(county_A) <- c(\"County (top 25%)\", \"Percentage Count\")\n",
    "\n",
    "\n",
    "county_B <- aggregate(data.frame(count = bottom_revised_foo$Dept), list(value = bottom_revised_foo$Dept), length)\n",
    "county_B[2] <- round(county_B[2] * 100/ dim(bottom_revised_foo)[1],2)\n",
    "county_B <- county_B[order(-county_B$count),]\n",
    "names(county_B) <- c(\"County (bottom 25%)\", \"Percentage Count\")\n",
    "\n",
    "\n",
    "\n",
    "county_A\n",
    "county_B\n"
   ]
  },
  {
   "cell_type": "markdown",
   "metadata": {},
   "source": [
    "As the figures above illustrate, the SERD County had the highest project counts among both project groupings. In addition, SDCC, CWRD, PARD, EARD, ERCD and SARD saw many projects from both project groupings. However, the bottom 25% of projects by \"RevisedAmount\" include some new counties such as ECRD, OCO, and OAI but exclude IED. "
   ]
  },
  {
   "cell_type": "code",
   "execution_count": 250,
   "metadata": {},
   "outputs": [
    {
     "data": {
      "text/html": [
       "<ol class=list-inline>\n",
       "\t<li>83</li>\n",
       "\t<li>2</li>\n",
       "</ol>\n"
      ],
      "text/latex": [
       "\\begin{enumerate*}\n",
       "\\item 83\n",
       "\\item 2\n",
       "\\end{enumerate*}\n"
      ],
      "text/markdown": [
       "1. 83\n",
       "2. 2\n",
       "\n",
       "\n"
      ],
      "text/plain": [
       "[1] 83  2"
      ]
     },
     "metadata": {},
     "output_type": "display_data"
    },
    {
     "data": {
      "text/html": [
       "<ol class=list-inline>\n",
       "\t<li>96</li>\n",
       "\t<li>2</li>\n",
       "</ol>\n"
      ],
      "text/latex": [
       "\\begin{enumerate*}\n",
       "\\item 96\n",
       "\\item 2\n",
       "\\end{enumerate*}\n"
      ],
      "text/markdown": [
       "1. 96\n",
       "2. 2\n",
       "\n",
       "\n"
      ],
      "text/plain": [
       "[1] 96  2"
      ]
     },
     "metadata": {},
     "output_type": "display_data"
    }
   ],
   "source": [
    "#Count unique values of division\n",
    "\n",
    "division_A <- aggregate(data.frame(count = top_revised_foo$Division), list(value = top_revised_foo$Division), length)\n",
    "division_A[2] <- round(division_A[2] * 100/ dim(top_revised_foo)[1],2)\n",
    "names(division_A) <- c(\"Division (top 25%)\", \"Percentage Count\")\n",
    "division_B <- aggregate(data.frame(count = bottom_revised_foo$Division), list(value = bottom_revised_foo$Division), length)\n",
    "division_B[2] <- round(division_B[2] * 100/ dim(bottom_revised_foo)[1],2)\n",
    "names(division_B) <- c(\"Division (bottom 25%)\", \"Percentage Count\")\n",
    "\n",
    "dim(division_A)\n",
    "dim(division_B)"
   ]
  },
  {
   "cell_type": "code",
   "execution_count": 251,
   "metadata": {},
   "outputs": [
    {
     "data": {
      "text/html": [
       "<table>\n",
       "<thead><tr><th></th><th scope=col>10 Divisions with highest projects (top 25%)</th><th scope=col>Percentage Count</th></tr></thead>\n",
       "<tbody>\n",
       "\t<tr><th scope=row>70</th><td>SEPF </td><td>5.68 </td></tr>\n",
       "\t<tr><th scope=row>66</th><td>SEER </td><td>4.94 </td></tr>\n",
       "\t<tr><th scope=row>60</th><td>SDSC </td><td>4.20 </td></tr>\n",
       "\t<tr><th scope=row>65</th><td>SEEN </td><td>3.46 </td></tr>\n",
       "\t<tr><th scope=row>24</th><td>INRM </td><td>3.21 </td></tr>\n",
       "\t<tr><th scope=row>3</th><td>CWEN </td><td>2.72 </td></tr>\n",
       "\t<tr><th scope=row>57</th><td>SDES </td><td>2.47 </td></tr>\n",
       "\t<tr><th scope=row>35</th><td>PATE </td><td>2.22 </td></tr>\n",
       "\t<tr><th scope=row>50</th><td>SAPF </td><td>2.22 </td></tr>\n",
       "\t<tr><th scope=row>21</th><td>GAFSP</td><td>1.98 </td></tr>\n",
       "</tbody>\n",
       "</table>\n"
      ],
      "text/latex": [
       "\\begin{tabular}{r|ll}\n",
       "  & 10 Divisions with highest projects (top 25\\%) & Percentage Count\\\\\n",
       "\\hline\n",
       "\t70 & SEPF  & 5.68 \\\\\n",
       "\t66 & SEER  & 4.94 \\\\\n",
       "\t60 & SDSC  & 4.20 \\\\\n",
       "\t65 & SEEN  & 3.46 \\\\\n",
       "\t24 & INRM  & 3.21 \\\\\n",
       "\t3 & CWEN  & 2.72 \\\\\n",
       "\t57 & SDES  & 2.47 \\\\\n",
       "\t35 & PATE  & 2.22 \\\\\n",
       "\t50 & SAPF  & 2.22 \\\\\n",
       "\t21 & GAFSP & 1.98 \\\\\n",
       "\\end{tabular}\n"
      ],
      "text/markdown": [
       "\n",
       "| <!--/--> | 10 Divisions with highest projects (top 25%) | Percentage Count | \n",
       "|---|---|---|---|---|---|---|---|---|---|\n",
       "| 70 | SEPF  | 5.68  | \n",
       "| 66 | SEER  | 4.94  | \n",
       "| 60 | SDSC  | 4.20  | \n",
       "| 65 | SEEN  | 3.46  | \n",
       "| 24 | INRM  | 3.21  | \n",
       "| 3 | CWEN  | 2.72  | \n",
       "| 57 | SDES  | 2.47  | \n",
       "| 35 | PATE  | 2.22  | \n",
       "| 50 | SAPF  | 2.22  | \n",
       "| 21 | GAFSP | 1.98  | \n",
       "\n",
       "\n"
      ],
      "text/plain": [
       "   10 Divisions with highest projects (top 25%) Percentage Count\n",
       "70 SEPF                                         5.68            \n",
       "66 SEER                                         4.94            \n",
       "60 SDSC                                         4.20            \n",
       "65 SEEN                                         3.46            \n",
       "24 INRM                                         3.21            \n",
       "3  CWEN                                         2.72            \n",
       "57 SDES                                         2.47            \n",
       "35 PATE                                         2.22            \n",
       "50 SAPF                                         2.22            \n",
       "21 GAFSP                                        1.98            "
      ]
     },
     "metadata": {},
     "output_type": "display_data"
    },
    {
     "data": {
      "text/html": [
       "<table>\n",
       "<thead><tr><th></th><th scope=col>10 Divisions with highest projects (bottom 25%)</th><th scope=col>Percentage Count</th></tr></thead>\n",
       "<tbody>\n",
       "\t<tr><th scope=row>82</th><td>SEPF</td><td>3.80</td></tr>\n",
       "\t<tr><th scope=row>45</th><td>PAHQ</td><td>3.33</td></tr>\n",
       "\t<tr><th scope=row>65</th><td>SAPF</td><td>3.33</td></tr>\n",
       "\t<tr><th scope=row>4</th><td>CARM</td><td>2.38</td></tr>\n",
       "\t<tr><th scope=row>24</th><td>ERDI</td><td>2.38</td></tr>\n",
       "\t<tr><th scope=row>73</th><td>SDGG</td><td>2.38</td></tr>\n",
       "\t<tr><th scope=row>10</th><td>CWPF</td><td>2.14</td></tr>\n",
       "\t<tr><th scope=row>23</th><td>ERCI</td><td>2.14</td></tr>\n",
       "\t<tr><th scope=row>46</th><td>PATE</td><td>2.14</td></tr>\n",
       "\t<tr><th scope=row>61</th><td>SAEN</td><td>2.14</td></tr>\n",
       "</tbody>\n",
       "</table>\n"
      ],
      "text/latex": [
       "\\begin{tabular}{r|ll}\n",
       "  & 10 Divisions with highest projects (bottom 25\\%) & Percentage Count\\\\\n",
       "\\hline\n",
       "\t82 & SEPF & 3.80\\\\\n",
       "\t45 & PAHQ & 3.33\\\\\n",
       "\t65 & SAPF & 3.33\\\\\n",
       "\t4 & CARM & 2.38\\\\\n",
       "\t24 & ERDI & 2.38\\\\\n",
       "\t73 & SDGG & 2.38\\\\\n",
       "\t10 & CWPF & 2.14\\\\\n",
       "\t23 & ERCI & 2.14\\\\\n",
       "\t46 & PATE & 2.14\\\\\n",
       "\t61 & SAEN & 2.14\\\\\n",
       "\\end{tabular}\n"
      ],
      "text/markdown": [
       "\n",
       "| <!--/--> | 10 Divisions with highest projects (bottom 25%) | Percentage Count | \n",
       "|---|---|---|---|---|---|---|---|---|---|\n",
       "| 82 | SEPF | 3.80 | \n",
       "| 45 | PAHQ | 3.33 | \n",
       "| 65 | SAPF | 3.33 | \n",
       "| 4 | CARM | 2.38 | \n",
       "| 24 | ERDI | 2.38 | \n",
       "| 73 | SDGG | 2.38 | \n",
       "| 10 | CWPF | 2.14 | \n",
       "| 23 | ERCI | 2.14 | \n",
       "| 46 | PATE | 2.14 | \n",
       "| 61 | SAEN | 2.14 | \n",
       "\n",
       "\n"
      ],
      "text/plain": [
       "   10 Divisions with highest projects (bottom 25%) Percentage Count\n",
       "82 SEPF                                            3.80            \n",
       "45 PAHQ                                            3.33            \n",
       "65 SAPF                                            3.33            \n",
       "4  CARM                                            2.38            \n",
       "24 ERDI                                            2.38            \n",
       "73 SDGG                                            2.38            \n",
       "10 CWPF                                            2.14            \n",
       "23 ERCI                                            2.14            \n",
       "46 PATE                                            2.14            \n",
       "61 SAEN                                            2.14            "
      ]
     },
     "metadata": {},
     "output_type": "display_data"
    }
   ],
   "source": [
    "#Since the dataframes are 83 and 118 rows long in total, I will only examine the top 10 divisions with the highest count.\n",
    "top_division_A <- head(division_A[order(-division_A[2]),], 10)\n",
    "names(top_division_A) <- c(\"10 Divisions with highest projects (top 25%)\", \"Percentage Count\")\n",
    "top_division_A\n",
    "\n",
    "top_division_B <- head(division_B[order(-division_B[2]),], 10)\n",
    "names(top_division_B) <- c(\"10 Divisions with highest projects (bottom 25%)\", \"Percentage Count\")\n",
    "top_division_B"
   ]
  },
  {
   "cell_type": "markdown",
   "metadata": {},
   "source": [
    "As the figures above illustrate, the SEPF division had the highest project count in both project groupings. The bottom 25% also had the second highest percentage count for the PAHQ division, which isn't mentioned in the top 25%'s list. Further, CWPF, EAER, EAPH and etc, are among the divisions which didn't make it to the top 10 list for the top 25% but are present with high counts in the top 10 list for the bottom 25%. "
   ]
  },
  {
   "cell_type": "code",
   "execution_count": 252,
   "metadata": {},
   "outputs": [
    {
     "data": {
      "text/html": [
       "<table>\n",
       "<thead><tr><th></th><th scope=col>Cluster (top 25%)</th><th scope=col>Count</th></tr></thead>\n",
       "<tbody>\n",
       "\t<tr><th scope=row>1</th><td>     </td><td>96.54</td></tr>\n",
       "\t<tr><th scope=row>3</th><td>C003 </td><td> 1.48</td></tr>\n",
       "\t<tr><th scope=row>4</th><td>C006 </td><td> 0.99</td></tr>\n",
       "\t<tr><th scope=row>5</th><td>C009 </td><td> 0.49</td></tr>\n",
       "\t<tr><th scope=row>2</th><td>C002 </td><td> 0.25</td></tr>\n",
       "\t<tr><th scope=row>6</th><td>C011 </td><td> 0.25</td></tr>\n",
       "</tbody>\n",
       "</table>\n"
      ],
      "text/latex": [
       "\\begin{tabular}{r|ll}\n",
       "  & Cluster (top 25\\%) & Count\\\\\n",
       "\\hline\n",
       "\t1 &       & 96.54\\\\\n",
       "\t3 & C003  &  1.48\\\\\n",
       "\t4 & C006  &  0.99\\\\\n",
       "\t5 & C009  &  0.49\\\\\n",
       "\t2 & C002  &  0.25\\\\\n",
       "\t6 & C011  &  0.25\\\\\n",
       "\\end{tabular}\n"
      ],
      "text/markdown": [
       "\n",
       "| <!--/--> | Cluster (top 25%) | Count | \n",
       "|---|---|---|---|---|---|\n",
       "| 1 |       | 96.54 | \n",
       "| 3 | C003  |  1.48 | \n",
       "| 4 | C006  |  0.99 | \n",
       "| 5 | C009  |  0.49 | \n",
       "| 2 | C002  |  0.25 | \n",
       "| 6 | C011  |  0.25 | \n",
       "\n",
       "\n"
      ],
      "text/plain": [
       "  Cluster (top 25%) Count\n",
       "1                   96.54\n",
       "3 C003               1.48\n",
       "4 C006               0.99\n",
       "5 C009               0.49\n",
       "2 C002               0.25\n",
       "6 C011               0.25"
      ]
     },
     "metadata": {},
     "output_type": "display_data"
    },
    {
     "data": {
      "text/html": [
       "<table>\n",
       "<thead><tr><th scope=col>Cluster (bottom 25%)</th><th scope=col>Percentage Count</th></tr></thead>\n",
       "<tbody>\n",
       "\t<tr><td>     </td><td>98.10</td></tr>\n",
       "\t<tr><td>C003 </td><td> 1.43</td></tr>\n",
       "\t<tr><td>C006 </td><td> 0.24</td></tr>\n",
       "\t<tr><td>C009 </td><td> 0.24</td></tr>\n",
       "</tbody>\n",
       "</table>\n"
      ],
      "text/latex": [
       "\\begin{tabular}{r|ll}\n",
       " Cluster (bottom 25\\%) & Percentage Count\\\\\n",
       "\\hline\n",
       "\t       & 98.10\\\\\n",
       "\t C003  &  1.43\\\\\n",
       "\t C006  &  0.24\\\\\n",
       "\t C009  &  0.24\\\\\n",
       "\\end{tabular}\n"
      ],
      "text/markdown": [
       "\n",
       "Cluster (bottom 25%) | Percentage Count | \n",
       "|---|---|---|---|\n",
       "|       | 98.10 | \n",
       "| C003  |  1.43 | \n",
       "| C006  |  0.24 | \n",
       "| C009  |  0.24 | \n",
       "\n",
       "\n"
      ],
      "text/plain": [
       "  Cluster (bottom 25%) Percentage Count\n",
       "1                      98.10           \n",
       "2 C003                  1.43           \n",
       "3 C006                  0.24           \n",
       "4 C009                  0.24           "
      ]
     },
     "metadata": {},
     "output_type": "display_data"
    }
   ],
   "source": [
    "#Count unique values of Cluster\n",
    "\n",
    "cluster_A <- aggregate(data.frame(count = top_revised_foo$Cluster), list(value = top_revised_foo$Cluster), length)\n",
    "cluster_A[2] <- round(cluster_A[2] * 100/ dim(top_revised_foo)[1],2)\n",
    "names(cluster_A) <- c(\"Cluster (top 25%)\", \"Count\")\n",
    "cluster_A <- cluster_A[order(-cluster_A[2]),]\n",
    "\n",
    "cluster_B <- aggregate(data.frame(count = bottom_revised_foo$Cluster), list(value = bottom_revised_foo$Cluster), length)\n",
    "cluster_B[2] <- round(cluster_B[2] * 100/ dim(bottom_revised_foo)[1],2)\n",
    "names(cluster_B) <- c(\"Cluster (bottom 25%)\", \"Percentage Count\")\n",
    "cluster_B <- cluster_B[order(-cluster_B[2]),]\n",
    "\n",
    "cluster_A\n",
    "cluster_B"
   ]
  },
  {
   "cell_type": "markdown",
   "metadata": {},
   "source": [
    "It's difficult to draw any definite conclusions from the Cluster data because most projects aren't categorized. However, for both project groupings, C003, C006 and C009 saw the highest project numbers. In the top 25% of projects by \"RevisedAmount\", there are extra clusters of C002 and C011 which aren't present in the bottom 25%. "
   ]
  },
  {
   "cell_type": "code",
   "execution_count": 256,
   "metadata": {},
   "outputs": [
    {
     "data": {
      "text/html": [
       "<table>\n",
       "<thead><tr><th></th><th scope=col>Country (top 25%)</th><th scope=col> Percentage Count</th></tr></thead>\n",
       "<tbody>\n",
       "\t<tr><th scope=row>21</th><td>REG  </td><td>51.85</td></tr>\n",
       "\t<tr><th scope=row>8</th><td>IND  </td><td> 7.16</td></tr>\n",
       "\t<tr><th scope=row>9</th><td>INO  </td><td> 5.19</td></tr>\n",
       "\t<tr><th scope=row>30</th><td>VIE  </td><td> 3.95</td></tr>\n",
       "\t<tr><th scope=row>1</th><td>AFG  </td><td> 3.46</td></tr>\n",
       "\t<tr><th scope=row>20</th><td>PRC  </td><td> 3.46</td></tr>\n",
       "\t<tr><th scope=row>17</th><td>PAK  </td><td> 3.21</td></tr>\n",
       "\t<tr><th scope=row>18</th><td>PHI  </td><td> 3.21</td></tr>\n",
       "\t<tr><th scope=row>15</th><td>MYA  </td><td> 2.47</td></tr>\n",
       "\t<tr><th scope=row>5</th><td>CAM  </td><td> 1.98</td></tr>\n",
       "\t<tr><th scope=row>14</th><td>MON  </td><td> 1.98</td></tr>\n",
       "\t<tr><th scope=row>12</th><td>LAO  </td><td> 1.48</td></tr>\n",
       "\t<tr><th scope=row>16</th><td>NEP  </td><td> 1.48</td></tr>\n",
       "\t<tr><th scope=row>3</th><td>BAN  </td><td> 1.23</td></tr>\n",
       "\t<tr><th scope=row>25</th><td>TAJ  </td><td> 1.23</td></tr>\n",
       "\t<tr><th scope=row>26</th><td>THA  </td><td> 0.99</td></tr>\n",
       "\t<tr><th scope=row>4</th><td>BHU  </td><td> 0.74</td></tr>\n",
       "\t<tr><th scope=row>24</th><td>SRI  </td><td> 0.74</td></tr>\n",
       "\t<tr><th scope=row>2</th><td>AZE  </td><td> 0.49</td></tr>\n",
       "\t<tr><th scope=row>11</th><td>KIR  </td><td> 0.49</td></tr>\n",
       "\t<tr><th scope=row>22</th><td>SAM  </td><td> 0.49</td></tr>\n",
       "\t<tr><th scope=row>23</th><td>SOL  </td><td> 0.49</td></tr>\n",
       "\t<tr><th scope=row>27</th><td>TIM  </td><td> 0.49</td></tr>\n",
       "\t<tr><th scope=row>6</th><td>FIJ  </td><td> 0.25</td></tr>\n",
       "\t<tr><th scope=row>7</th><td>GEO  </td><td> 0.25</td></tr>\n",
       "\t<tr><th scope=row>10</th><td>KAZ  </td><td> 0.25</td></tr>\n",
       "\t<tr><th scope=row>13</th><td>MLD  </td><td> 0.25</td></tr>\n",
       "\t<tr><th scope=row>19</th><td>PNG  </td><td> 0.25</td></tr>\n",
       "\t<tr><th scope=row>28</th><td>TON  </td><td> 0.25</td></tr>\n",
       "\t<tr><th scope=row>29</th><td>UZB  </td><td> 0.25</td></tr>\n",
       "</tbody>\n",
       "</table>\n"
      ],
      "text/latex": [
       "\\begin{tabular}{r|ll}\n",
       "  & Country (top 25\\%) &  Percentage Count\\\\\n",
       "\\hline\n",
       "\t21 & REG   & 51.85\\\\\n",
       "\t8 & IND   &  7.16\\\\\n",
       "\t9 & INO   &  5.19\\\\\n",
       "\t30 & VIE   &  3.95\\\\\n",
       "\t1 & AFG   &  3.46\\\\\n",
       "\t20 & PRC   &  3.46\\\\\n",
       "\t17 & PAK   &  3.21\\\\\n",
       "\t18 & PHI   &  3.21\\\\\n",
       "\t15 & MYA   &  2.47\\\\\n",
       "\t5 & CAM   &  1.98\\\\\n",
       "\t14 & MON   &  1.98\\\\\n",
       "\t12 & LAO   &  1.48\\\\\n",
       "\t16 & NEP   &  1.48\\\\\n",
       "\t3 & BAN   &  1.23\\\\\n",
       "\t25 & TAJ   &  1.23\\\\\n",
       "\t26 & THA   &  0.99\\\\\n",
       "\t4 & BHU   &  0.74\\\\\n",
       "\t24 & SRI   &  0.74\\\\\n",
       "\t2 & AZE   &  0.49\\\\\n",
       "\t11 & KIR   &  0.49\\\\\n",
       "\t22 & SAM   &  0.49\\\\\n",
       "\t23 & SOL   &  0.49\\\\\n",
       "\t27 & TIM   &  0.49\\\\\n",
       "\t6 & FIJ   &  0.25\\\\\n",
       "\t7 & GEO   &  0.25\\\\\n",
       "\t10 & KAZ   &  0.25\\\\\n",
       "\t13 & MLD   &  0.25\\\\\n",
       "\t19 & PNG   &  0.25\\\\\n",
       "\t28 & TON   &  0.25\\\\\n",
       "\t29 & UZB   &  0.25\\\\\n",
       "\\end{tabular}\n"
      ],
      "text/markdown": [
       "\n",
       "| <!--/--> | Country (top 25%) |  Percentage Count | \n",
       "|---|---|---|---|---|---|---|---|---|---|---|---|---|---|---|---|---|---|---|---|---|---|---|---|---|---|---|---|---|---|\n",
       "| 21 | REG   | 51.85 | \n",
       "| 8 | IND   |  7.16 | \n",
       "| 9 | INO   |  5.19 | \n",
       "| 30 | VIE   |  3.95 | \n",
       "| 1 | AFG   |  3.46 | \n",
       "| 20 | PRC   |  3.46 | \n",
       "| 17 | PAK   |  3.21 | \n",
       "| 18 | PHI   |  3.21 | \n",
       "| 15 | MYA   |  2.47 | \n",
       "| 5 | CAM   |  1.98 | \n",
       "| 14 | MON   |  1.98 | \n",
       "| 12 | LAO   |  1.48 | \n",
       "| 16 | NEP   |  1.48 | \n",
       "| 3 | BAN   |  1.23 | \n",
       "| 25 | TAJ   |  1.23 | \n",
       "| 26 | THA   |  0.99 | \n",
       "| 4 | BHU   |  0.74 | \n",
       "| 24 | SRI   |  0.74 | \n",
       "| 2 | AZE   |  0.49 | \n",
       "| 11 | KIR   |  0.49 | \n",
       "| 22 | SAM   |  0.49 | \n",
       "| 23 | SOL   |  0.49 | \n",
       "| 27 | TIM   |  0.49 | \n",
       "| 6 | FIJ   |  0.25 | \n",
       "| 7 | GEO   |  0.25 | \n",
       "| 10 | KAZ   |  0.25 | \n",
       "| 13 | MLD   |  0.25 | \n",
       "| 19 | PNG   |  0.25 | \n",
       "| 28 | TON   |  0.25 | \n",
       "| 29 | UZB   |  0.25 | \n",
       "\n",
       "\n"
      ],
      "text/plain": [
       "   Country (top 25%)  Percentage Count\n",
       "21 REG               51.85            \n",
       "8  IND                7.16            \n",
       "9  INO                5.19            \n",
       "30 VIE                3.95            \n",
       "1  AFG                3.46            \n",
       "20 PRC                3.46            \n",
       "17 PAK                3.21            \n",
       "18 PHI                3.21            \n",
       "15 MYA                2.47            \n",
       "5  CAM                1.98            \n",
       "14 MON                1.98            \n",
       "12 LAO                1.48            \n",
       "16 NEP                1.48            \n",
       "3  BAN                1.23            \n",
       "25 TAJ                1.23            \n",
       "26 THA                0.99            \n",
       "4  BHU                0.74            \n",
       "24 SRI                0.74            \n",
       "2  AZE                0.49            \n",
       "11 KIR                0.49            \n",
       "22 SAM                0.49            \n",
       "23 SOL                0.49            \n",
       "27 TIM                0.49            \n",
       "6  FIJ                0.25            \n",
       "7  GEO                0.25            \n",
       "10 KAZ                0.25            \n",
       "13 MLD                0.25            \n",
       "19 PNG                0.25            \n",
       "28 TON                0.25            \n",
       "29 UZB                0.25            "
      ]
     },
     "metadata": {},
     "output_type": "display_data"
    },
    {
     "data": {
      "text/html": [
       "<table>\n",
       "<thead><tr><th></th><th scope=col>Country (bottom 25%)</th><th scope=col>Percentage Count</th></tr></thead>\n",
       "<tbody>\n",
       "\t<tr><th scope=row>27</th><td>REG  </td><td>38.95</td></tr>\n",
       "\t<tr><th scope=row>26</th><td>PRC  </td><td> 7.36</td></tr>\n",
       "\t<tr><th scope=row>10</th><td>IND  </td><td> 5.46</td></tr>\n",
       "\t<tr><th scope=row>21</th><td>NEP  </td><td> 3.80</td></tr>\n",
       "\t<tr><th scope=row>3</th><td>BAN  </td><td> 3.56</td></tr>\n",
       "\t<tr><th scope=row>22</th><td>PAK  </td><td> 3.33</td></tr>\n",
       "\t<tr><th scope=row>24</th><td>PHI  </td><td> 3.33</td></tr>\n",
       "\t<tr><th scope=row>5</th><td>CAM  </td><td> 3.09</td></tr>\n",
       "\t<tr><th scope=row>4</th><td>BHU  </td><td> 2.61</td></tr>\n",
       "\t<tr><th scope=row>19</th><td>MYA  </td><td> 2.38</td></tr>\n",
       "\t<tr><th scope=row>40</th><td>VIE  </td><td> 2.38</td></tr>\n",
       "\t<tr><th scope=row>18</th><td>MON  </td><td> 1.90</td></tr>\n",
       "\t<tr><th scope=row>31</th><td>SRI  </td><td> 1.90</td></tr>\n",
       "\t<tr><th scope=row>33</th><td>THA  </td><td> 1.90</td></tr>\n",
       "\t<tr><th scope=row>11</th><td>INO  </td><td> 1.66</td></tr>\n",
       "\t<tr><th scope=row>13</th><td>KGZ  </td><td> 1.43</td></tr>\n",
       "\t<tr><th scope=row>17</th><td>MLD  </td><td> 1.19</td></tr>\n",
       "\t<tr><th scope=row>20</th><td>NAU  </td><td> 1.19</td></tr>\n",
       "\t<tr><th scope=row>34</th><td>TIM  </td><td> 1.19</td></tr>\n",
       "\t<tr><th scope=row>15</th><td>LAO  </td><td> 0.95</td></tr>\n",
       "\t<tr><th scope=row>25</th><td>PNG  </td><td> 0.95</td></tr>\n",
       "\t<tr><th scope=row>28</th><td>RMI  </td><td> 0.95</td></tr>\n",
       "\t<tr><th scope=row>30</th><td>SOL  </td><td> 0.95</td></tr>\n",
       "\t<tr><th scope=row>38</th><td>UZB  </td><td> 0.95</td></tr>\n",
       "\t<tr><th scope=row>9</th><td>GEO  </td><td> 0.71</td></tr>\n",
       "\t<tr><th scope=row>32</th><td>TAJ  </td><td> 0.71</td></tr>\n",
       "\t<tr><th scope=row>39</th><td>VAN  </td><td> 0.71</td></tr>\n",
       "\t<tr><th scope=row>1</th><td>AFG  </td><td> 0.48</td></tr>\n",
       "\t<tr><th scope=row>6</th><td>COO  </td><td> 0.48</td></tr>\n",
       "\t<tr><th scope=row>7</th><td>FIJ  </td><td> 0.48</td></tr>\n",
       "\t<tr><th scope=row>8</th><td>FSM  </td><td> 0.48</td></tr>\n",
       "\t<tr><th scope=row>16</th><td>MAL  </td><td> 0.48</td></tr>\n",
       "\t<tr><th scope=row>37</th><td>TUV  </td><td> 0.48</td></tr>\n",
       "\t<tr><th scope=row>2</th><td>AZE  </td><td> 0.24</td></tr>\n",
       "\t<tr><th scope=row>12</th><td>KAZ  </td><td> 0.24</td></tr>\n",
       "\t<tr><th scope=row>14</th><td>KIR  </td><td> 0.24</td></tr>\n",
       "\t<tr><th scope=row>23</th><td>PAL  </td><td> 0.24</td></tr>\n",
       "\t<tr><th scope=row>29</th><td>SAM  </td><td> 0.24</td></tr>\n",
       "\t<tr><th scope=row>35</th><td>TKM  </td><td> 0.24</td></tr>\n",
       "\t<tr><th scope=row>36</th><td>TON  </td><td> 0.24</td></tr>\n",
       "</tbody>\n",
       "</table>\n"
      ],
      "text/latex": [
       "\\begin{tabular}{r|ll}\n",
       "  & Country (bottom 25\\%) & Percentage Count\\\\\n",
       "\\hline\n",
       "\t27 & REG   & 38.95\\\\\n",
       "\t26 & PRC   &  7.36\\\\\n",
       "\t10 & IND   &  5.46\\\\\n",
       "\t21 & NEP   &  3.80\\\\\n",
       "\t3 & BAN   &  3.56\\\\\n",
       "\t22 & PAK   &  3.33\\\\\n",
       "\t24 & PHI   &  3.33\\\\\n",
       "\t5 & CAM   &  3.09\\\\\n",
       "\t4 & BHU   &  2.61\\\\\n",
       "\t19 & MYA   &  2.38\\\\\n",
       "\t40 & VIE   &  2.38\\\\\n",
       "\t18 & MON   &  1.90\\\\\n",
       "\t31 & SRI   &  1.90\\\\\n",
       "\t33 & THA   &  1.90\\\\\n",
       "\t11 & INO   &  1.66\\\\\n",
       "\t13 & KGZ   &  1.43\\\\\n",
       "\t17 & MLD   &  1.19\\\\\n",
       "\t20 & NAU   &  1.19\\\\\n",
       "\t34 & TIM   &  1.19\\\\\n",
       "\t15 & LAO   &  0.95\\\\\n",
       "\t25 & PNG   &  0.95\\\\\n",
       "\t28 & RMI   &  0.95\\\\\n",
       "\t30 & SOL   &  0.95\\\\\n",
       "\t38 & UZB   &  0.95\\\\\n",
       "\t9 & GEO   &  0.71\\\\\n",
       "\t32 & TAJ   &  0.71\\\\\n",
       "\t39 & VAN   &  0.71\\\\\n",
       "\t1 & AFG   &  0.48\\\\\n",
       "\t6 & COO   &  0.48\\\\\n",
       "\t7 & FIJ   &  0.48\\\\\n",
       "\t8 & FSM   &  0.48\\\\\n",
       "\t16 & MAL   &  0.48\\\\\n",
       "\t37 & TUV   &  0.48\\\\\n",
       "\t2 & AZE   &  0.24\\\\\n",
       "\t12 & KAZ   &  0.24\\\\\n",
       "\t14 & KIR   &  0.24\\\\\n",
       "\t23 & PAL   &  0.24\\\\\n",
       "\t29 & SAM   &  0.24\\\\\n",
       "\t35 & TKM   &  0.24\\\\\n",
       "\t36 & TON   &  0.24\\\\\n",
       "\\end{tabular}\n"
      ],
      "text/markdown": [
       "\n",
       "| <!--/--> | Country (bottom 25%) | Percentage Count | \n",
       "|---|---|---|---|---|---|---|---|---|---|---|---|---|---|---|---|---|---|---|---|---|---|---|---|---|---|---|---|---|---|---|---|---|---|---|---|---|---|---|---|\n",
       "| 27 | REG   | 38.95 | \n",
       "| 26 | PRC   |  7.36 | \n",
       "| 10 | IND   |  5.46 | \n",
       "| 21 | NEP   |  3.80 | \n",
       "| 3 | BAN   |  3.56 | \n",
       "| 22 | PAK   |  3.33 | \n",
       "| 24 | PHI   |  3.33 | \n",
       "| 5 | CAM   |  3.09 | \n",
       "| 4 | BHU   |  2.61 | \n",
       "| 19 | MYA   |  2.38 | \n",
       "| 40 | VIE   |  2.38 | \n",
       "| 18 | MON   |  1.90 | \n",
       "| 31 | SRI   |  1.90 | \n",
       "| 33 | THA   |  1.90 | \n",
       "| 11 | INO   |  1.66 | \n",
       "| 13 | KGZ   |  1.43 | \n",
       "| 17 | MLD   |  1.19 | \n",
       "| 20 | NAU   |  1.19 | \n",
       "| 34 | TIM   |  1.19 | \n",
       "| 15 | LAO   |  0.95 | \n",
       "| 25 | PNG   |  0.95 | \n",
       "| 28 | RMI   |  0.95 | \n",
       "| 30 | SOL   |  0.95 | \n",
       "| 38 | UZB   |  0.95 | \n",
       "| 9 | GEO   |  0.71 | \n",
       "| 32 | TAJ   |  0.71 | \n",
       "| 39 | VAN   |  0.71 | \n",
       "| 1 | AFG   |  0.48 | \n",
       "| 6 | COO   |  0.48 | \n",
       "| 7 | FIJ   |  0.48 | \n",
       "| 8 | FSM   |  0.48 | \n",
       "| 16 | MAL   |  0.48 | \n",
       "| 37 | TUV   |  0.48 | \n",
       "| 2 | AZE   |  0.24 | \n",
       "| 12 | KAZ   |  0.24 | \n",
       "| 14 | KIR   |  0.24 | \n",
       "| 23 | PAL   |  0.24 | \n",
       "| 29 | SAM   |  0.24 | \n",
       "| 35 | TKM   |  0.24 | \n",
       "| 36 | TON   |  0.24 | \n",
       "\n",
       "\n"
      ],
      "text/plain": [
       "   Country (bottom 25%) Percentage Count\n",
       "27 REG                  38.95           \n",
       "26 PRC                   7.36           \n",
       "10 IND                   5.46           \n",
       "21 NEP                   3.80           \n",
       "3  BAN                   3.56           \n",
       "22 PAK                   3.33           \n",
       "24 PHI                   3.33           \n",
       "5  CAM                   3.09           \n",
       "4  BHU                   2.61           \n",
       "19 MYA                   2.38           \n",
       "40 VIE                   2.38           \n",
       "18 MON                   1.90           \n",
       "31 SRI                   1.90           \n",
       "33 THA                   1.90           \n",
       "11 INO                   1.66           \n",
       "13 KGZ                   1.43           \n",
       "17 MLD                   1.19           \n",
       "20 NAU                   1.19           \n",
       "34 TIM                   1.19           \n",
       "15 LAO                   0.95           \n",
       "25 PNG                   0.95           \n",
       "28 RMI                   0.95           \n",
       "30 SOL                   0.95           \n",
       "38 UZB                   0.95           \n",
       "9  GEO                   0.71           \n",
       "32 TAJ                   0.71           \n",
       "39 VAN                   0.71           \n",
       "1  AFG                   0.48           \n",
       "6  COO                   0.48           \n",
       "7  FIJ                   0.48           \n",
       "8  FSM                   0.48           \n",
       "16 MAL                   0.48           \n",
       "37 TUV                   0.48           \n",
       "2  AZE                   0.24           \n",
       "12 KAZ                   0.24           \n",
       "14 KIR                   0.24           \n",
       "23 PAL                   0.24           \n",
       "29 SAM                   0.24           \n",
       "35 TKM                   0.24           \n",
       "36 TON                   0.24           "
      ]
     },
     "metadata": {},
     "output_type": "display_data"
    },
    {
     "data": {
      "text/html": [
       "<ol class=list-inline>\n",
       "\t<li>30</li>\n",
       "\t<li>2</li>\n",
       "</ol>\n"
      ],
      "text/latex": [
       "\\begin{enumerate*}\n",
       "\\item 30\n",
       "\\item 2\n",
       "\\end{enumerate*}\n"
      ],
      "text/markdown": [
       "1. 30\n",
       "2. 2\n",
       "\n",
       "\n"
      ],
      "text/plain": [
       "[1] 30  2"
      ]
     },
     "metadata": {},
     "output_type": "display_data"
    },
    {
     "data": {
      "text/html": [
       "<ol class=list-inline>\n",
       "\t<li>40</li>\n",
       "\t<li>2</li>\n",
       "</ol>\n"
      ],
      "text/latex": [
       "\\begin{enumerate*}\n",
       "\\item 40\n",
       "\\item 2\n",
       "\\end{enumerate*}\n"
      ],
      "text/markdown": [
       "1. 40\n",
       "2. 2\n",
       "\n",
       "\n"
      ],
      "text/plain": [
       "[1] 40  2"
      ]
     },
     "metadata": {},
     "output_type": "display_data"
    }
   ],
   "source": [
    "#Count unique values of country\n",
    "\n",
    "country_A <- aggregate(data.frame(count = top_revised_foo$Country), list(value = top_revised_foo$Country), length)\n",
    "country_A[2] <- round(country_A[2] * 100/ dim(top_revised_foo)[1],2)\n",
    "names(country_A) <- c(\"Country (top 25%)\", \" Percentage Count\")\n",
    "country_A <- country_A[order(-country_A[2]),]\n",
    "\n",
    "country_B <- aggregate(data.frame(count = bottom_revised_foo$Country), list(value = bottom_revised_foo$Country), length)\n",
    "country_B[2] <- round(country_B[2] * 100/ dim(bottom_revised_foo)[1],2)\n",
    "names(country_B) <- c(\"Country (bottom 25%)\", \"Percentage Count\")\n",
    "country_B <- country_B[order(-country_B[2]),]\n",
    "\n",
    "country_A\n",
    "country_B\n",
    "dim(country_A)\n",
    "dim(country_B)\n",
    "\n"
   ]
  },
  {
   "cell_type": "markdown",
   "metadata": {},
   "source": [
    "Among both country groupings, India, Indonesia and Vietnam have the highest project counts in the top 25% and China, India and Nepal have the highest percentage count in the botton 25%. The list for the bottom 25% is also longer by 10 countries, indicating that projects spanned across various countries compared to the top 25%. "
   ]
  },
  {
   "cell_type": "code",
   "execution_count": 257,
   "metadata": {},
   "outputs": [
    {
     "data": {
      "text/html": [
       "<table>\n",
       "<thead><tr><th></th><th scope=col>Type (top 25%)</th><th scope=col>Percentage Count</th></tr></thead>\n",
       "<tbody>\n",
       "\t<tr><th scope=row>3</th><td>CDTA    </td><td>29.38   </td></tr>\n",
       "\t<tr><th scope=row>7</th><td>RETA    </td><td>23.46   </td></tr>\n",
       "\t<tr><th scope=row>1</th><td>ADTA    </td><td>20.25   </td></tr>\n",
       "\t<tr><th scope=row>4</th><td>PATA    </td><td>13.33   </td></tr>\n",
       "\t<tr><th scope=row>6</th><td>RDTA    </td><td> 6.91   </td></tr>\n",
       "\t<tr><th scope=row>5</th><td>PPTA    </td><td> 6.17   </td></tr>\n",
       "\t<tr><th scope=row>2</th><td>ADTA-LRG</td><td> 0.49   </td></tr>\n",
       "</tbody>\n",
       "</table>\n"
      ],
      "text/latex": [
       "\\begin{tabular}{r|ll}\n",
       "  & Type (top 25\\%) & Percentage Count\\\\\n",
       "\\hline\n",
       "\t3 & CDTA     & 29.38   \\\\\n",
       "\t7 & RETA     & 23.46   \\\\\n",
       "\t1 & ADTA     & 20.25   \\\\\n",
       "\t4 & PATA     & 13.33   \\\\\n",
       "\t6 & RDTA     &  6.91   \\\\\n",
       "\t5 & PPTA     &  6.17   \\\\\n",
       "\t2 & ADTA-LRG &  0.49   \\\\\n",
       "\\end{tabular}\n"
      ],
      "text/markdown": [
       "\n",
       "| <!--/--> | Type (top 25%) | Percentage Count | \n",
       "|---|---|---|---|---|---|---|\n",
       "| 3 | CDTA     | 29.38    | \n",
       "| 7 | RETA     | 23.46    | \n",
       "| 1 | ADTA     | 20.25    | \n",
       "| 4 | PATA     | 13.33    | \n",
       "| 6 | RDTA     |  6.91    | \n",
       "| 5 | PPTA     |  6.17    | \n",
       "| 2 | ADTA-LRG |  0.49    | \n",
       "\n",
       "\n"
      ],
      "text/plain": [
       "  Type (top 25%) Percentage Count\n",
       "3 CDTA           29.38           \n",
       "7 RETA           23.46           \n",
       "1 ADTA           20.25           \n",
       "4 PATA           13.33           \n",
       "6 RDTA            6.91           \n",
       "5 PPTA            6.17           \n",
       "2 ADTA-LRG        0.49           "
      ]
     },
     "metadata": {},
     "output_type": "display_data"
    },
    {
     "data": {
      "text/html": [
       "<table>\n",
       "<thead><tr><th></th><th scope=col>Type (bottom 25%)</th><th scope=col>Percentage Count</th></tr></thead>\n",
       "<tbody>\n",
       "\t<tr><th scope=row>2</th><td>CDTA </td><td>32.78</td></tr>\n",
       "\t<tr><th scope=row>1</th><td>ADTA </td><td>23.99</td></tr>\n",
       "\t<tr><th scope=row>3</th><td>PATA </td><td>18.76</td></tr>\n",
       "\t<tr><th scope=row>6</th><td>RETA </td><td>10.21</td></tr>\n",
       "\t<tr><th scope=row>5</th><td>RDTA </td><td> 9.74</td></tr>\n",
       "\t<tr><th scope=row>4</th><td>PPTA </td><td> 4.51</td></tr>\n",
       "</tbody>\n",
       "</table>\n"
      ],
      "text/latex": [
       "\\begin{tabular}{r|ll}\n",
       "  & Type (bottom 25\\%) & Percentage Count\\\\\n",
       "\\hline\n",
       "\t2 & CDTA  & 32.78\\\\\n",
       "\t1 & ADTA  & 23.99\\\\\n",
       "\t3 & PATA  & 18.76\\\\\n",
       "\t6 & RETA  & 10.21\\\\\n",
       "\t5 & RDTA  &  9.74\\\\\n",
       "\t4 & PPTA  &  4.51\\\\\n",
       "\\end{tabular}\n"
      ],
      "text/markdown": [
       "\n",
       "| <!--/--> | Type (bottom 25%) | Percentage Count | \n",
       "|---|---|---|---|---|---|\n",
       "| 2 | CDTA  | 32.78 | \n",
       "| 1 | ADTA  | 23.99 | \n",
       "| 3 | PATA  | 18.76 | \n",
       "| 6 | RETA  | 10.21 | \n",
       "| 5 | RDTA  |  9.74 | \n",
       "| 4 | PPTA  |  4.51 | \n",
       "\n",
       "\n"
      ],
      "text/plain": [
       "  Type (bottom 25%) Percentage Count\n",
       "2 CDTA              32.78           \n",
       "1 ADTA              23.99           \n",
       "3 PATA              18.76           \n",
       "6 RETA              10.21           \n",
       "5 RDTA               9.74           \n",
       "4 PPTA               4.51           "
      ]
     },
     "metadata": {},
     "output_type": "display_data"
    }
   ],
   "source": [
    "#Count unique values of type\n",
    "\n",
    "type_A <- aggregate(data.frame(count = top_revised_foo$Type), list(value = top_revised_foo$Type), length)\n",
    "type_A[2] <- round(type_A[2] * 100/ dim(top_revised_foo)[1],2)\n",
    "type_A <- type_A[order(-type_A[2]),]\n",
    "names(type_A) <- c(\"Type (top 25%)\", \"Percentage Count\")\n",
    "type_B <- aggregate(data.frame(count = bottom_revised_foo$Type), list(value = bottom_revised_foo$Type), length)\n",
    "type_B[2] <- round(type_B[2] * 100/ dim(bottom_revised_foo)[1],2)\n",
    "type_B <- type_B[order(-type_B[2]),]\n",
    "names(type_B) <- c(\"Type (bottom 25%)\", \"Percentage Count\")\n",
    "\n",
    "type_A\n",
    "type_B"
   ]
  },
  {
   "cell_type": "markdown",
   "metadata": {},
   "source": [
    "CDTA projects have the highest percentage count among the top 25% by Revised.Amount. In addition, PPTA projects very low percentage counts among both project groupings. "
   ]
  },
  {
   "cell_type": "markdown",
   "metadata": {},
   "source": [
    "Both project groupings occur in _similar_ countries, clusters, divisions and counties. With the exception of country, the top percentage count for each of the characteristics were the same across both project groupings, with the top 25% of projects located heavily in India while the bottom 25% of projects were located heavily in China. It is plausible that the top 25% projects have lower ratings due to a difference across this characteristic or because of an interaction between lower budget and country, but at this stage, I am not certain whether a causal relationship exists between budget sizes and ratings. Lastly, the bottom 25% has 421 entries, while the top 25% has 405 entries so it's difficult to draw direct comparisons, though I have used proportions to make it easier. \n"
   ]
  },
  {
   "cell_type": "markdown",
   "metadata": {},
   "source": [
    "### 5) Imagine your manager asks you to apply Jeremy Howard's drivetrain model to the problem of optimal budget-setting to maximize project success (i.e., \"Rating\"). \n",
    "\n",
    "In such a situation, what would be the:\n",
    " #### (a) decision problem or objective?\n",
    " \n",
    "Our objective is to set the optimal budget to maximize Rating for different kinds of project proposals. Maximum rating in specific refers to a rating of 3. \n",
    " \n",
    " #### (b) lever or levers?\n",
    " \n",
    "A lever is defined as the input that we, the fund sponsors, can control. A good set of levers are the features of the budget e.g. amount, whether all the funds are given at once or in intervals over time, how often we expect to see reports for how the funds are used. A lever might also include what amount of funds we allocate to each country, division, country, project type and cluster i.e. how we wish to divide the total funds that we have between the characteristics that we prioritize as a grant agency. For the sake of brevity, we will consider amount of budget as the only lever for the next questions.\n",
    "\n",
    " \n",
    " #### (c) ideal RCT design?\n",
    " \n",
    "Before we begin our RCT design, it's important that we settle on a specific hypothesis that we want to test, because that will help us determine what data we need. In an ideal design, we will be able to check all combinations of characteristics, randomly assign the projects to different budgets and check the outcome ratings. For instance, if  we have project proposals in 3 different countries of two different types, we have 6 possible combinations of characteristics and so we must run 6 different RCTs. Ideally, we take all the projects of the same combination and randomly assign them to different budgets such as $1m, $2m, etc and compare their final ratings, while also setting up a control group which receives a control budget. Note that the control group cannot have a 0 budget, because without any budget, the project cannot happen and thus can't be rated, so instead a control group might receive a very low budget and we'll compare the ratings to projects of the same combination assigned to other budget treatments.\n",
    "\n",
    " \n",
    " #### (d) dependent variable(s) and independent variable(s) in the modeler\n",
    " \n",
    "The independent variables in the modeler are the characteristics of each project. For instance, the independent variables for CDTA projects in China are type of project and country. Note that our model may also include an interaction variable if we have to make assumptions about linearity e.g. in a regression model. All three together would be the _predictors_ of our model. The dependent variable is the rating for each project and the treatment is the amount of budget allocated. \n",
    " \n",
    " \n",
    " #### (e) And---Why would running RCTs and modeling/optimizing over RCT results be preferable to using (observational, non-RCT) \"foo\" data? \n",
    " \n",
    "RCTs are ideal because they have high internal validity i.e. we can establish causal conclusions with high probability between the predictor and outcome variables. In addition, RCTs eliminate bias in assigning interventions, specifically selection bias and confounding, by randomly assigning subjects to a treatment and control group. Observation or non-RCT analysis of \"foo\" data might give rise to spurious correlations, but only with RCTs, can we determine which budgets are optimal to maximize the ratings for which projects."
   ]
  }
 ],
 "metadata": {
  "kernelspec": {
   "display_name": "R",
   "language": "R",
   "name": "ir"
  },
  "language_info": {
   "codemirror_mode": "r",
   "file_extension": ".r",
   "mimetype": "text/x-r-source",
   "name": "R",
   "pygments_lexer": "r",
   "version": "3.5.1"
  }
 },
 "nbformat": 4,
 "nbformat_minor": 2
}
